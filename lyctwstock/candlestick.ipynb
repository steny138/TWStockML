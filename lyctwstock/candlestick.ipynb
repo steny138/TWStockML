{
 "nbformat": 4,
 "nbformat_minor": 2,
 "metadata": {
  "language_info": {
   "name": "python",
   "codemirror_mode": {
    "name": "ipython",
    "version": 3
   },
   "version": "3.7.4-final"
  },
  "orig_nbformat": 2,
  "file_extension": ".py",
  "mimetype": "text/x-python",
  "name": "python",
  "npconvert_exporter": "python",
  "pygments_lexer": "ipython3",
  "version": 3,
  "kernelspec": {
   "name": "finlab",
   "display_name": "finlab env"
  }
 },
 "cells": [
  {
   "cell_type": "code",
   "execution_count": 4,
   "metadata": {},
   "outputs": [
    {
     "data": {
      "text/html": "<div>\n<style scoped>\n    .dataframe tbody tr th:only-of-type {\n        vertical-align: middle;\n    }\n\n    .dataframe tbody tr th {\n        vertical-align: top;\n    }\n\n    .dataframe thead th {\n        text-align: right;\n    }\n</style>\n<table border=\"1\" class=\"dataframe\">\n  <thead>\n    <tr style=\"text-align: right;\">\n      <th></th>\n      <th>0015</th>\n      <th>0050</th>\n      <th>0051</th>\n      <th>0052</th>\n      <th>0053</th>\n      <th>0054</th>\n      <th>0055</th>\n      <th>0056</th>\n      <th>0057</th>\n      <th>0058</th>\n      <th>...</th>\n      <th>9944</th>\n      <th>9945</th>\n      <th>9946</th>\n      <th>9949</th>\n      <th>9950</th>\n      <th>9951</th>\n      <th>9955</th>\n      <th>9958</th>\n      <th>9960</th>\n      <th>9962</th>\n    </tr>\n    <tr>\n      <th>date</th>\n      <th></th>\n      <th></th>\n      <th></th>\n      <th></th>\n      <th></th>\n      <th></th>\n      <th></th>\n      <th></th>\n      <th></th>\n      <th></th>\n      <th></th>\n      <th></th>\n      <th></th>\n      <th></th>\n      <th></th>\n      <th></th>\n      <th></th>\n      <th></th>\n      <th></th>\n      <th></th>\n      <th></th>\n    </tr>\n  </thead>\n  <tbody>\n    <tr>\n      <th>2007-04-23</th>\n      <td>0</td>\n      <td>0</td>\n      <td>0</td>\n      <td>0</td>\n      <td>0</td>\n      <td>0</td>\n      <td>0</td>\n      <td>0</td>\n      <td>0</td>\n      <td>0</td>\n      <td>...</td>\n      <td>0</td>\n      <td>0</td>\n      <td>0</td>\n      <td>0</td>\n      <td>0</td>\n      <td>0</td>\n      <td>0</td>\n      <td>0</td>\n      <td>0</td>\n      <td>0</td>\n    </tr>\n    <tr>\n      <th>2007-04-24</th>\n      <td>0</td>\n      <td>0</td>\n      <td>0</td>\n      <td>0</td>\n      <td>0</td>\n      <td>0</td>\n      <td>0</td>\n      <td>0</td>\n      <td>0</td>\n      <td>0</td>\n      <td>...</td>\n      <td>0</td>\n      <td>0</td>\n      <td>0</td>\n      <td>0</td>\n      <td>0</td>\n      <td>0</td>\n      <td>0</td>\n      <td>0</td>\n      <td>0</td>\n      <td>0</td>\n    </tr>\n    <tr>\n      <th>2007-04-25</th>\n      <td>0</td>\n      <td>0</td>\n      <td>0</td>\n      <td>0</td>\n      <td>0</td>\n      <td>0</td>\n      <td>0</td>\n      <td>0</td>\n      <td>0</td>\n      <td>0</td>\n      <td>...</td>\n      <td>0</td>\n      <td>0</td>\n      <td>0</td>\n      <td>0</td>\n      <td>0</td>\n      <td>0</td>\n      <td>0</td>\n      <td>0</td>\n      <td>0</td>\n      <td>0</td>\n    </tr>\n    <tr>\n      <th>2007-04-26</th>\n      <td>0</td>\n      <td>0</td>\n      <td>0</td>\n      <td>0</td>\n      <td>0</td>\n      <td>0</td>\n      <td>0</td>\n      <td>0</td>\n      <td>0</td>\n      <td>0</td>\n      <td>...</td>\n      <td>0</td>\n      <td>0</td>\n      <td>0</td>\n      <td>0</td>\n      <td>0</td>\n      <td>0</td>\n      <td>0</td>\n      <td>0</td>\n      <td>0</td>\n      <td>0</td>\n    </tr>\n    <tr>\n      <th>2007-04-27</th>\n      <td>0</td>\n      <td>0</td>\n      <td>0</td>\n      <td>0</td>\n      <td>0</td>\n      <td>0</td>\n      <td>0</td>\n      <td>0</td>\n      <td>0</td>\n      <td>0</td>\n      <td>...</td>\n      <td>0</td>\n      <td>0</td>\n      <td>0</td>\n      <td>0</td>\n      <td>0</td>\n      <td>0</td>\n      <td>0</td>\n      <td>0</td>\n      <td>0</td>\n      <td>0</td>\n    </tr>\n    <tr>\n      <th>...</th>\n      <td>...</td>\n      <td>...</td>\n      <td>...</td>\n      <td>...</td>\n      <td>...</td>\n      <td>...</td>\n      <td>...</td>\n      <td>...</td>\n      <td>...</td>\n      <td>...</td>\n      <td>...</td>\n      <td>...</td>\n      <td>...</td>\n      <td>...</td>\n      <td>...</td>\n      <td>...</td>\n      <td>...</td>\n      <td>...</td>\n      <td>...</td>\n      <td>...</td>\n      <td>...</td>\n    </tr>\n    <tr>\n      <th>2019-06-24</th>\n      <td>0</td>\n      <td>0</td>\n      <td>0</td>\n      <td>0</td>\n      <td>0</td>\n      <td>0</td>\n      <td>0</td>\n      <td>0</td>\n      <td>0</td>\n      <td>0</td>\n      <td>...</td>\n      <td>0</td>\n      <td>0</td>\n      <td>0</td>\n      <td>0</td>\n      <td>0</td>\n      <td>0</td>\n      <td>0</td>\n      <td>0</td>\n      <td>0</td>\n      <td>0</td>\n    </tr>\n    <tr>\n      <th>2019-06-25</th>\n      <td>0</td>\n      <td>0</td>\n      <td>0</td>\n      <td>0</td>\n      <td>0</td>\n      <td>0</td>\n      <td>0</td>\n      <td>0</td>\n      <td>0</td>\n      <td>0</td>\n      <td>...</td>\n      <td>0</td>\n      <td>0</td>\n      <td>0</td>\n      <td>0</td>\n      <td>0</td>\n      <td>0</td>\n      <td>0</td>\n      <td>0</td>\n      <td>0</td>\n      <td>0</td>\n    </tr>\n    <tr>\n      <th>2019-06-26</th>\n      <td>0</td>\n      <td>0</td>\n      <td>0</td>\n      <td>0</td>\n      <td>0</td>\n      <td>0</td>\n      <td>0</td>\n      <td>0</td>\n      <td>0</td>\n      <td>0</td>\n      <td>...</td>\n      <td>0</td>\n      <td>0</td>\n      <td>0</td>\n      <td>0</td>\n      <td>0</td>\n      <td>0</td>\n      <td>0</td>\n      <td>0</td>\n      <td>0</td>\n      <td>0</td>\n    </tr>\n    <tr>\n      <th>2019-06-27</th>\n      <td>0</td>\n      <td>0</td>\n      <td>0</td>\n      <td>0</td>\n      <td>0</td>\n      <td>0</td>\n      <td>0</td>\n      <td>0</td>\n      <td>0</td>\n      <td>0</td>\n      <td>...</td>\n      <td>0</td>\n      <td>0</td>\n      <td>0</td>\n      <td>0</td>\n      <td>0</td>\n      <td>0</td>\n      <td>0</td>\n      <td>0</td>\n      <td>0</td>\n      <td>0</td>\n    </tr>\n    <tr>\n      <th>2019-06-28</th>\n      <td>0</td>\n      <td>0</td>\n      <td>0</td>\n      <td>0</td>\n      <td>0</td>\n      <td>0</td>\n      <td>0</td>\n      <td>0</td>\n      <td>0</td>\n      <td>0</td>\n      <td>...</td>\n      <td>0</td>\n      <td>0</td>\n      <td>0</td>\n      <td>0</td>\n      <td>0</td>\n      <td>0</td>\n      <td>0</td>\n      <td>0</td>\n      <td>0</td>\n      <td>0</td>\n    </tr>\n  </tbody>\n</table>\n<p>3014 rows × 1893 columns</p>\n</div>",
      "text/plain": "            0015  0050  0051  0052  0053  0054  0055  0056  0057  0058  ...  \\\ndate                                                                    ...   \n2007-04-23     0     0     0     0     0     0     0     0     0     0  ...   \n2007-04-24     0     0     0     0     0     0     0     0     0     0  ...   \n2007-04-25     0     0     0     0     0     0     0     0     0     0  ...   \n2007-04-26     0     0     0     0     0     0     0     0     0     0  ...   \n2007-04-27     0     0     0     0     0     0     0     0     0     0  ...   \n...          ...   ...   ...   ...   ...   ...   ...   ...   ...   ...  ...   \n2019-06-24     0     0     0     0     0     0     0     0     0     0  ...   \n2019-06-25     0     0     0     0     0     0     0     0     0     0  ...   \n2019-06-26     0     0     0     0     0     0     0     0     0     0  ...   \n2019-06-27     0     0     0     0     0     0     0     0     0     0  ...   \n2019-06-28     0     0     0     0     0     0     0     0     0     0  ...   \n\n            9944  9945  9946  9949  9950  9951  9955  9958  9960  9962  \ndate                                                                    \n2007-04-23     0     0     0     0     0     0     0     0     0     0  \n2007-04-24     0     0     0     0     0     0     0     0     0     0  \n2007-04-25     0     0     0     0     0     0     0     0     0     0  \n2007-04-26     0     0     0     0     0     0     0     0     0     0  \n2007-04-27     0     0     0     0     0     0     0     0     0     0  \n...          ...   ...   ...   ...   ...   ...   ...   ...   ...   ...  \n2019-06-24     0     0     0     0     0     0     0     0     0     0  \n2019-06-25     0     0     0     0     0     0     0     0     0     0  \n2019-06-26     0     0     0     0     0     0     0     0     0     0  \n2019-06-27     0     0     0     0     0     0     0     0     0     0  \n2019-06-28     0     0     0     0     0     0     0     0     0     0  \n\n[3014 rows x 1893 columns]"
     },
     "execution_count": 4,
     "metadata": {},
     "output_type": "execute_result"
    }
   ],
   "source": [
    "\n",
    "import talib\n",
    "# import finlab\n",
    "import numpy as np\n",
    "import pandas as pd\n",
    "\n",
    "from finlab.data import Data\n",
    "folder = '/Volumes/Macintosh HD/history'\n",
    "\n",
    "data = Data(folder)\n",
    "\n",
    "# data.history_folder\n",
    "\n",
    "open_ = data.get_adj('開盤價')\n",
    "s = data.talib('CDL2CROWS')\n",
    "s\n",
    "# columns = ['Open', 'High', 'Low', 'Close', 'Volume']\n",
    "# files = ['開盤價', '收盤價', '最高價' ,'最低價', '成交筆數']\n",
    "\n",
    "# stock_id = '2330'\n",
    "# df = pd.DataFrame()\n",
    "\n",
    "# for idx, filename in enumerate(files):\n",
    "#     df_temp = pd.read_pickle(f\"{folder}/{filename}.pkl\")\n",
    "#     s = df_temp[stock_id]\n",
    "#     df[columns[idx]] = s\n",
    "#     df[columns[idx]].fillna(method='ffill', inplace=True)\n",
    "\n",
    "# df['Name'] = stock_id\n",
    "\n",
    "\n",
    "# df.head()"
   ]
  },
  {
   "cell_type": "code",
   "execution_count": null,
   "metadata": {},
   "outputs": [],
   "source": []
  }
 ]
}