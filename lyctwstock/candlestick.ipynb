{
 "nbformat": 4,
 "nbformat_minor": 2,
 "metadata": {
  "language_info": {
   "name": "python",
   "codemirror_mode": {
    "name": "ipython",
    "version": 3
   },
   "version": "3.7.4-final"
  },
  "orig_nbformat": 2,
  "file_extension": ".py",
  "mimetype": "text/x-python",
  "name": "python",
  "npconvert_exporter": "python",
  "pygments_lexer": "ipython3",
  "version": 3,
  "kernelspec": {
   "name": "finlab",
   "display_name": "finlab env"
  }
 },
 "cells": [
  {
   "cell_type": "markdown",
   "execution_count": null,
   "metadata": {},
   "outputs": [],
   "source": [
    "## 起始設定"
   ]
  },
  {
   "cell_type": "code",
   "execution_count": null,
   "metadata": {},
   "outputs": [],
   "source": [
    "import talib\n",
    "import numpy as np\n",
    "import pandas as pd\n",
    "from finlab.data import Data\n",
    "\n",
    "folder = '/Volumes/Macintosh HD/history'\n",
    "\n",
    "stock_id = '2412'\n",
    "\n",
    "data = Data(folder)"
   ]
  },
  {
   "cell_type": "markdown",
   "execution_count": null,
   "metadata": {},
   "outputs": [],
   "source": [
    "## 取得預設持有報酬率"
   ]
  },
  {
   "cell_type": "code",
   "execution_count": null,
   "metadata": {},
   "outputs": [],
   "source": [
    "open_adj = data.get_adj('開盤價')\n",
    "\n",
    "profit1 =  open_adj.shift(-2) / open_adj.shift(-1)\n",
    "profit5 =  open_adj.shift(-6) / open_adj.shift(-1)\n",
    "profit10 = open_adj.shift(-11) / open_adj.shift(-1)\n",
    "profit60 = open_adj.shift(-61) / open_adj.shift(-1)\n",
    "\n",
    "profit1 = profit1.unstack()\n",
    "profit5 = profit5.unstack()\n",
    "profit10 = profit10.unstack()\n",
    "profit60 = profit60.unstack()"
   ]
  },
  {
   "cell_type": "markdown",
   "execution_count": null,
   "metadata": {},
   "outputs": [],
   "source": [
    "## 分析candlestick"
   ]
  },
  {
   "cell_type": "code",
   "execution_count": null,
   "metadata": {},
   "outputs": [],
   "source": [
    "from talib import abstract\n",
    "\n",
    "strategies = {}\n",
    "\n",
    "candlesticks = [fname for fname in dir(abstract) if fname[:3] == 'CDL']\n",
    "\n",
    "for index, fname in enumerate(candlesticks, 1):\n",
    "    print(f'{index}/{len(candlesticks)}: {fname} is running')\n",
    "\n",
    "    df = data.talib(fname)\n",
    "    df = df.unstack()\n",
    "    df = df[df!= 0]\n",
    "\n",
    "    stock_series = df.dropna(axis=0)\n",
    "\n",
    "    if stock_series.empty:\n",
    "        continue\n",
    "\n",
    "    pos = stock_series > 0\n",
    "    neg = stock_series < 0\n",
    "    \n",
    "    # profit 用cumprod 算出總報酬率\n",
    "    # 用mean 可算出該蠟燭形態 的報酬率都落在什麼位置\n",
    "    # mean 大於 1 至少可說這報酬率是正值 會賺錢\n",
    "    strategies[fname] = {\n",
    "        \"positive_profit_1\": profit1.loc[pos.index].unstack(level=0).mean(),\n",
    "        \"positive_profit_5\": profit5.loc[pos.index].unstack(level=0).mean(),\n",
    "        \"positive_profit_10\": profit10.loc[pos.index].unstack(level=0).mean(),\n",
    "        \"negative_profit_1\": profit1.loc[neg.index].unstack(level=0).mean(),\n",
    "        \"negative_profit_5\": profit5.loc[neg.index].unstack(level=0).mean(),\n",
    "        \"negative_profit_10\": profit10.loc[neg.index].unstack(level=0).mean(),\n",
    "    }"
   ]
  },
  {
   "cell_type": "code",
   "execution_count": null,
   "metadata": {},
   "outputs": [],
   "source": [
    "for name, strategy in strategies.items():\n",
    "    print(name)\n",
    "    print('positive: ' + str(len(strategy['positive'])))\n",
    "    print('negative: ' + str(len(strategy['negative'])))"
   ]
  },
  {
   "cell_type": "markdown",
   "execution_count": null,
   "metadata": {},
   "outputs": [],
   "source": [
    "## 將所有報酬率統整到dataframe\n",
    "用 Multiple Index 的方式 將 candle stick name & stock id 作為 indies \n",
    "並且用各種profit當作 column 組合出一個dataframe"
   ]
  },
  {
   "cell_type": "code",
   "execution_count": null,
   "metadata": {},
   "outputs": [],
   "source": [
    "df_ = []\n",
    "candlesitck_names = []\n",
    "for candlesitck in strategies:\n",
    "    df = pd.DataFrame(strategies[candlesitck])\n",
    "    candlesitck_names.append(candlesitck)\n",
    "    df_.append(df)\n",
    "\n",
    "df_total = pd.concat(df_, keys=candlesitck_names, axis=0)\n",
    "\n",
    "# 將 mutiple index 依照類型命名\n",
    "df_total.index.names = ['candlestick', dfy.index.names[1]]\n",
    "df_total\n",
    "\n",
    "df_total.plot()"
   ]
  },
  {
   "cell_type": "code",
   "execution_count": null,
   "metadata": {},
   "outputs": [],
   "source": [
    "df_profit = pd.DataFrame(strategies['CDLBELTHOLD'])\n",
    "for column in df_profit.columns:\n",
    "    if not 'positive_profit' in column:\n",
    "        continue\n",
    "    ret = df_profit.shift(-1)[column] - df_profit[column]\n",
    "    cret_total = ret.cumprod()\n",
    "    ax1 = cret_total.plot(label=column.replace('_profit_','_'))\n",
    "    h1, l1 = ax1.           get_legend_handles_labels()\n",
    "\n",
    "import matplotlib.pyplot as plt\n",
    "\n",
    "plt.legend(h1, l1, loc=2)\n",
    "\n",
    "plt.show()"
   ]
  },
  {
   "cell_type": "code",
   "execution_count": null,
   "metadata": {},
   "outputs": [],
   "source": [
    "strategies_ = {}\n",
    "fname = 'CDL3INSIDE'\n",
    "df = data.talib(fname)\n",
    "df = df.unstack()\n",
    "df = df[df!= 0]\n",
    "\n",
    "stock_series = df.dropna(axis=0)\n",
    "\n",
    "pos = stock_series > 0\n",
    "neg = stock_series < 0\n",
    "\n",
    "# profit 用cumprod 算出總報酬率\n",
    "# 用mean 可算出該蠟燭形態 的報酬率都落在什麼位置\n",
    "# mean 大於 1 至少可說這報酬率是正值 會賺錢\n",
    "strategies_[fname] = {\n",
    "    \"positive_profit_1\": profit1.loc[pos.index].unstack(level=0).mean(),\n",
    "    \"positive_profit_5\": profit5.loc[pos.index].unstack(level=0).mean(),\n",
    "    \"positive_profit_10\": profit10.loc[pos.index].unstack(level=0).mean(),\n",
    "    \"negative_profit_1\": profit1.loc[neg.index].unstack(level=0).mean(),\n",
    "    \"negative_profit_5\": profit5.loc[neg.index].unstack(level=0).mean(),\n",
    "    \"negative_profit_10\": profit10.loc[neg.index].unstack(level=0).mean(),\n",
    "}"
   ]
  },
  {
   "cell_type": "code",
   "execution_count": null,
   "metadata": {},
   "outputs": [],
   "source": [
    "open_adj = data.get_adj('開盤價')\n",
    "ret = open_adj.shift(-1)[stock_id] - open_adj[stock_id]\n",
    "\n",
    "cret_total = ret.cumsum()\n",
    "\n",
    "cret_total.plot()"
   ]
  },
  {
   "cell_type": "code",
   "execution_count": null,
   "metadata": {},
   "outputs": [],
   "source": [
    "profit10.loc[pos.index]['0015']"
   ]
  },
  {
   "cell_type": "code",
   "execution_count": null,
   "metadata": {},
   "outputs": [],
   "source": [
    "p = profit10.loc[pos.index]['0015'].cumprod()\n",
    "\n",
    "p.plot()"
   ]
  },
  {
   "cell_type": "code",
   "execution_count": null,
   "metadata": {},
   "outputs": [],
   "source": [
    "profit10.loc[pos.index]['0015'].mean()"
   ]
  },
  {
   "cell_type": "code",
   "execution_count": null,
   "metadata": {},
   "outputs": [],
   "source": [
    "profit5.loc[pos.index].unstack(level=0).mean()"
   ]
  },
  {
   "cell_type": "code",
   "execution_count": null,
   "metadata": {},
   "outputs": [],
   "source": [
    "df1 = pd.DataFrame(strategies['CDLSHOOTINGSTAR'])\n",
    "df1.index.name = 'stock_id'\n",
    "df2 = pd.DataFrame(strategies['CDL3INSIDE'])\n",
    "df2.index.name = 'stock_id'\n",
    "\n",
    "df3 = pd.DataFrame(strategies['CDL3OUTSIDE'])\n",
    "df3.index.name = 'stock_id'\n",
    "\n",
    "df4 = pd.DataFrame(strategies['CDLTAKURI'])\n",
    "df4.index.name = 'stock_id'\n",
    "\n",
    "dfx = [df1, df2, df3, df4]\n",
    "\n",
    "dfy = pd.concat(dfx,keys= ['CDLSHOOTINGSTAR','CDL3INSIDE','CDL3OUTSIDE','CDLTAKURI'],axis=0)\n",
    "\n",
    "dfy.index.names = ['candlestick',dfy.index.names[1]]\n",
    "\n",
    "dfy"
   ]
  },
  {
   "cell_type": "code",
   "execution_count": null,
   "metadata": {},
   "outputs": [],
   "source": [
    "df_ = []\n",
    "candlesitck_names = []\n",
    "for candlesitck in strategies:\n",
    "    df = pd.DataFrame(strategies[candlesitck])\n",
    "    candlesitck_names.append(candlesitck)\n",
    "    df_.append(df)\n",
    "\n",
    "dfy = pd.concat(df_, keys=candlesitck_names, axis=0)\n",
    "\n",
    "dfy.index.names = ['candlestick', dfy.index.names[1]]\n",
    "dfy"
   ]
  },
  {
   "cell_type": "code",
   "execution_count": null,
   "metadata": {},
   "outputs": [],
   "source": []
  }
 ]
}