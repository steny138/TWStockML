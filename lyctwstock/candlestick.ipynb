{
 "cells": [
  {
   "cell_type": "markdown",
   "metadata": {},
   "source": [
    "## 起始設定"
   ]
  },
  {
   "cell_type": "code",
   "execution_count": 5,
   "metadata": {},
   "outputs": [],
   "source": [
    "import talib\n",
    "import numpy as np\n",
    "import pandas as pd\n",
    "from finlab.data import Data\n",
    "\n",
    "folder = '/Volumes/Macintosh HD/history'\n",
    "\n",
    "stock_id = '2412'\n",
    "\n",
    "data = Data(folder)"
   ]
  },
  {
   "cell_type": "markdown",
   "metadata": {},
   "source": [
    "## 取得預設持有報酬率"
   ]
  },
  {
   "cell_type": "code",
   "execution_count": 6,
   "metadata": {},
   "outputs": [],
   "source": [
    "open_adj = data.get_adj('開盤價')\n",
    "\n",
    "profit1 =  open_adj.shift(-2) / open_adj.shift(-1)\n",
    "profit5 =  open_adj.shift(-6) / open_adj.shift(-1)\n",
    "profit10 = open_adj.shift(-11) / open_adj.shift(-1)\n",
    "profit60 = open_adj.shift(-61) / open_adj.shift(-1)\n",
    "\n",
    "profit1 = profit1.unstack()\n",
    "profit5 = profit5.unstack()\n",
    "profit10 = profit10.unstack()\n",
    "profit60 = profit60.unstack()\n",
    ""
   ]
  },
  {
   "cell_type": "markdown",
   "metadata": {},
   "source": [
    "## 分析candlestick"
   ]
  },
  {
   "cell_type": "code",
   "execution_count": 7,
   "metadata": {},
   "outputs": [
    {
     "output_type": "stream",
     "name": "stdout",
     "text": "1/61: CDL2CROWS is running\n2/61: CDL3BLACKCROWS is running\n3/61: CDL3INSIDE is running\n4/61: CDL3LINESTRIKE is running\n5/61: CDL3OUTSIDE is running\n6/61: CDL3STARSINSOUTH is running\n7/61: CDL3WHITESOLDIERS is running\n8/61: CDLABANDONEDBABY is running\n9/61: CDLADVANCEBLOCK is running\n10/61: CDLBELTHOLD is running\n11/61: CDLBREAKAWAY is running\n12/61: CDLCLOSINGMARUBOZU is running\n13/61: CDLCONCEALBABYSWALL is running\n14/61: CDLCOUNTERATTACK is running\n15/61: CDLDARKCLOUDCOVER is running\n16/61: CDLDOJI is running\n17/61: CDLDOJISTAR is running\n18/61: CDLDRAGONFLYDOJI is running\n19/61: CDLENGULFING is running\n20/61: CDLEVENINGDOJISTAR is running\n21/61: CDLEVENINGSTAR is running\n22/61: CDLGAPSIDESIDEWHITE is running\n23/61: CDLGRAVESTONEDOJI is running\n24/61: CDLHAMMER is running\n25/61: CDLHANGINGMAN is running\n26/61: CDLHARAMI is running\n27/61: CDLHARAMICROSS is running\n28/61: CDLHIGHWAVE is running\n29/61: CDLHIKKAKE is running\n30/61: CDLHIKKAKEMOD is running\n31/61: CDLHOMINGPIGEON is running\n32/61: CDLIDENTICAL3CROWS is running\n33/61: CDLINNECK is running\n34/61: CDLINVERTEDHAMMER is running\n35/61: CDLKICKING is running\n36/61: CDLKICKINGBYLENGTH is running\n37/61: CDLLADDERBOTTOM is running\n38/61: CDLLONGLEGGEDDOJI is running\n39/61: CDLLONGLINE is running\n40/61: CDLMARUBOZU is running\n41/61: CDLMATCHINGLOW is running\n42/61: CDLMATHOLD is running\n43/61: CDLMORNINGDOJISTAR is running\n44/61: CDLMORNINGSTAR is running\n45/61: CDLONNECK is running\n46/61: CDLPIERCING is running\n47/61: CDLRICKSHAWMAN is running\n48/61: CDLRISEFALL3METHODS is running\n49/61: CDLSEPARATINGLINES is running\n50/61: CDLSHOOTINGSTAR is running\n51/61: CDLSHORTLINE is running\n52/61: CDLSPINNINGTOP is running\n53/61: CDLSTALLEDPATTERN is running\n54/61: CDLSTICKSANDWICH is running\n55/61: CDLTAKURI is running\n56/61: CDLTASUKIGAP is running\n57/61: CDLTHRUSTING is running\n58/61: CDLTRISTAR is running\n59/61: CDLUNIQUE3RIVER is running\n60/61: CDLUPSIDEGAP2CROWS is running\n61/61: CDLXSIDEGAP3METHODS is running\n"
    }
   ],
   "source": [
    "from talib import abstract\n",
    "\n",
    "strategies = {}\n",
    "signals = {}\n",
    "\n",
    "candlesticks = [fname for fname in dir(abstract) if fname[:3] == 'CDL']\n",
    "\n",
    "for index, fname in enumerate(candlesticks, 1):\n",
    "    print(f'{index}/{len(candlesticks)}: {fname} is running')\n",
    "\n",
    "    df = data.talib(fname)\n",
    "    df = df.unstack()\n",
    "    df = df[df!= 0]\n",
    "\n",
    "    stock_series = df.dropna(axis=0)\n",
    "\n",
    "    if stock_series.empty:\n",
    "        continue\n",
    "\n",
    "    pos = stock_series > 0\n",
    "    neg = stock_series < 0\n",
    "    \n",
    "    # profit 用cumprod 算出總報酬率\n",
    "    # 用mean 可算出該蠟燭形態 的報酬率都落在什麼位置\n",
    "    # mean 大於 1 至少可說這報酬率是正值 會賺錢\n",
    "    strategies[fname] = {\n",
    "        \"positive_profit_1\": profit1.loc[pos.index].unstack(level=0).mean(),\n",
    "        \"positive_profit_5\": profit5.loc[pos.index].unstack(level=0).mean(),\n",
    "        \"positive_profit_10\": profit10.loc[pos.index].unstack(level=0).mean(),\n",
    "        \"negative_profit_1\": profit1.loc[neg.index].unstack(level=0).mean(),\n",
    "        \"negative_profit_5\": profit5.loc[neg.index].unstack(level=0).mean(),\n",
    "        \"negative_profit_10\": profit10.loc[neg.index].unstack(level=0).mean(),\n",
    "    }\n",
    "    \n",
    "    signals[fname] = {\n",
    "        \"positive\": stock_series[pos],\n",
    "        \"negative\": stock_series[neg]\n",
    "    }"
   ]
  },
  {
   "cell_type": "code",
   "execution_count": 8,
   "metadata": {},
   "outputs": [
    {
     "output_type": "stream",
     "name": "stdout",
     "text": "CDL2CROWS\npositive: 0\nnegative: 2731\nCDL3BLACKCROWS\npositive: 0\nnegative: 2213\nCDL3INSIDE\npositive: 25017\nnegative: 11786\nCDL3LINESTRIKE\npositive: 702\nnegative: 673\nCDL3OUTSIDE\npositive: 21470\nnegative: 70241\nCDL3STARSINSOUTH\npositive: 16\nnegative: 0\nCDL3WHITESOLDIERS\npositive: 2557\nnegative: 0\nCDLABANDONEDBABY\npositive: 169\nnegative: 175\nCDLADVANCEBLOCK\npositive: 0\nnegative: 8103\nCDLBELTHOLD\npositive: 464464\nnegative: 583064\nCDLBREAKAWAY\npositive: 91\nnegative: 134\nCDLCLOSINGMARUBOZU\npositive: 378972\nnegative: 487471\nCDLCONCEALBABYSWALL\npositive: 8\nnegative: 0\nCDLCOUNTERATTACK\npositive: 6255\nnegative: 8407\nCDLDARKCLOUDCOVER\npositive: 0\nnegative: 16335\nCDLDOJI\npositive: 910802\nnegative: 0\nCDLDOJISTAR\npositive: 38145\nnegative: 41512\nCDLDRAGONFLYDOJI\npositive: 137883\nnegative: 0\nCDLENGULFING\npositive: 54282\nnegative: 151201\nCDLEVENINGDOJISTAR\npositive: 0\nnegative: 4224\nCDLEVENINGSTAR\npositive: 0\nnegative: 12709\nCDLGAPSIDESIDEWHITE\npositive: 16743\nnegative: 16328\nCDLGRAVESTONEDOJI\npositive: 179349\nnegative: 0\nCDLHAMMER\npositive: 110822\nnegative: 0\nCDLHANGINGMAN\npositive: 0\nnegative: 133981\nCDLHARAMI\npositive: 147390\nnegative: 81295\nCDLHARAMICROSS\npositive: 51039\nnegative: 28184\nCDLHIGHWAVE\npositive: 301021\nnegative: 81470\nCDLHIKKAKE\npositive: 206961\nnegative: 215393\nCDLHIKKAKEMOD\npositive: 3497\nnegative: 2122\nCDLHOMINGPIGEON\npositive: 50451\nnegative: 0\nCDLIDENTICAL3CROWS\npositive: 0\nnegative: 3788\nCDLINNECK\npositive: 0\nnegative: 12412\nCDLINVERTEDHAMMER\npositive: 101444\nnegative: 0\nCDLKICKING\npositive: 256\nnegative: 185\nCDLKICKINGBYLENGTH\npositive: 293\nnegative: 148\nCDLLADDERBOTTOM\npositive: 3009\nnegative: 0\nCDLLONGLEGGEDDOJI\npositive: 654881\nnegative: 0\nCDLLONGLINE\npositive: 352664\nnegative: 517398\nCDLMARUBOZU\npositive: 215159\nnegative: 279166\nCDLMATCHINGLOW\npositive: 164048\nnegative: 0\nCDLMATHOLD\npositive: 43\nnegative: 0\nCDLMORNINGDOJISTAR\npositive: 3573\nnegative: 0\nCDLMORNINGSTAR\npositive: 10757\nnegative: 0\nCDLONNECK\npositive: 0\nnegative: 12669\nCDLPIERCING\npositive: 9098\nnegative: 0\nCDLRICKSHAWMAN\npositive: 290190\nnegative: 0\nCDLRISEFALL3METHODS\npositive: 197\nnegative: 118\nCDLSEPARATINGLINES\npositive: 11434\nnegative: 24708\nCDLSHOOTINGSTAR\npositive: 0\nnegative: 63919\nCDLSHORTLINE\npositive: 370974\nnegative: 355996\nCDLSPINNINGTOP\npositive: 394556\nnegative: 184047\nCDLSTALLEDPATTERN\npositive: 0\nnegative: 5919\nCDLSTICKSANDWICH\npositive: 7126\nnegative: 0\nCDLTAKURI\npositive: 137061\nnegative: 0\nCDLTASUKIGAP\npositive: 2662\nnegative: 2721\nCDLTHRUSTING\npositive: 0\nnegative: 24837\nCDLTRISTAR\npositive: 4039\nnegative: 3660\nCDLUNIQUE3RIVER\npositive: 4182\nnegative: 0\nCDLUPSIDEGAP2CROWS\npositive: 0\nnegative: 1139\nCDLXSIDEGAP3METHODS\npositive: 2461\nnegative: 3164\n"
    }
   ],
   "source": [
    "for name, signal in signals.items():\n",
    "    print(name)\n",
    "    print('positive: ' + str(len(signal['positive'])))\n",
    "    print('negative: ' + str(len(signal['negative'])))"
   ]
  },
  {
   "cell_type": "markdown",
   "metadata": {},
   "source": [
    "## 將所有報酬率統整到dataframe\n",
    "用 Multiple Index 的方式 將 candle stick name & stock id 作為 indies \n",
    "並且用各種profit當作 column 組合出一個dataframe"
   ]
  },
  {
   "cell_type": "code",
   "execution_count": 8,
   "metadata": {},
   "outputs": [
    {
     "output_type": "execute_result",
     "data": {
      "text/plain": "                          positive_profit_1  positive_profit_5  \\\ncandlestick                                                      \nCDL2CROWS           0050           0.997219           0.977666   \n                    0051           1.003568           0.997190   \n                    0052           0.981431           0.970361   \n                    0053           0.997887           0.996461   \n                    0054           0.999762           0.998392   \n...                                     ...                ...   \nCDLXSIDEGAP3METHODS 9950           0.988552           0.978522   \n                    9951           1.042254           1.056338   \n                    9955           0.960280           0.883178   \n                    9958           0.951263           1.045020   \n                    9960           0.963220           0.949647   \n\n                          positive_profit_10  negative_profit_1  \\\ncandlestick                                                       \nCDL2CROWS           0050            0.985989           0.997219   \n                    0051            0.963726           1.003568   \n                    0052            0.971178           0.981431   \n                    0053            1.004212           0.997887   \n                    0054            1.013641           0.999762   \n...                                      ...                ...   \nCDLXSIDEGAP3METHODS 9950            0.967826           0.988552   \n                    9951            1.084507           1.042254   \n                    9955            0.981308           0.960280   \n                    9958            1.049189           0.951263   \n                    9960            0.853866           0.963220   \n\n                          negative_profit_5  negative_profit_10  \ncandlestick                                                      \nCDL2CROWS           0050           0.977666            0.985989  \n                    0051           0.997190            0.963726  \n                    0052           0.970361            0.971178  \n                    0053           0.996461            1.004212  \n                    0054           0.998392            1.013641  \n...                                     ...                 ...  \nCDLXSIDEGAP3METHODS 9950           0.978522            0.967826  \n                    9951           1.056338            1.084507  \n                    9955           0.883178            0.981308  \n                    9958           1.045020            1.049189  \n                    9960           0.949647            0.853866  \n\n[91494 rows x 6 columns]",
      "text/html": "<div>\n<style scoped>\n    .dataframe tbody tr th:only-of-type {\n        vertical-align: middle;\n    }\n\n    .dataframe tbody tr th {\n        vertical-align: top;\n    }\n\n    .dataframe thead th {\n        text-align: right;\n    }\n</style>\n<table border=\"1\" class=\"dataframe\">\n  <thead>\n    <tr style=\"text-align: right;\">\n      <th></th>\n      <th></th>\n      <th>positive_profit_1</th>\n      <th>positive_profit_5</th>\n      <th>positive_profit_10</th>\n      <th>negative_profit_1</th>\n      <th>negative_profit_5</th>\n      <th>negative_profit_10</th>\n    </tr>\n    <tr>\n      <th>candlestick</th>\n      <th></th>\n      <th></th>\n      <th></th>\n      <th></th>\n      <th></th>\n      <th></th>\n      <th></th>\n    </tr>\n  </thead>\n  <tbody>\n    <tr>\n      <th rowspan=\"5\" valign=\"top\">CDL2CROWS</th>\n      <th>0050</th>\n      <td>0.997219</td>\n      <td>0.977666</td>\n      <td>0.985989</td>\n      <td>0.997219</td>\n      <td>0.977666</td>\n      <td>0.985989</td>\n    </tr>\n    <tr>\n      <th>0051</th>\n      <td>1.003568</td>\n      <td>0.997190</td>\n      <td>0.963726</td>\n      <td>1.003568</td>\n      <td>0.997190</td>\n      <td>0.963726</td>\n    </tr>\n    <tr>\n      <th>0052</th>\n      <td>0.981431</td>\n      <td>0.970361</td>\n      <td>0.971178</td>\n      <td>0.981431</td>\n      <td>0.970361</td>\n      <td>0.971178</td>\n    </tr>\n    <tr>\n      <th>0053</th>\n      <td>0.997887</td>\n      <td>0.996461</td>\n      <td>1.004212</td>\n      <td>0.997887</td>\n      <td>0.996461</td>\n      <td>1.004212</td>\n    </tr>\n    <tr>\n      <th>0054</th>\n      <td>0.999762</td>\n      <td>0.998392</td>\n      <td>1.013641</td>\n      <td>0.999762</td>\n      <td>0.998392</td>\n      <td>1.013641</td>\n    </tr>\n    <tr>\n      <th>...</th>\n      <th>...</th>\n      <td>...</td>\n      <td>...</td>\n      <td>...</td>\n      <td>...</td>\n      <td>...</td>\n      <td>...</td>\n    </tr>\n    <tr>\n      <th rowspan=\"5\" valign=\"top\">CDLXSIDEGAP3METHODS</th>\n      <th>9950</th>\n      <td>0.988552</td>\n      <td>0.978522</td>\n      <td>0.967826</td>\n      <td>0.988552</td>\n      <td>0.978522</td>\n      <td>0.967826</td>\n    </tr>\n    <tr>\n      <th>9951</th>\n      <td>1.042254</td>\n      <td>1.056338</td>\n      <td>1.084507</td>\n      <td>1.042254</td>\n      <td>1.056338</td>\n      <td>1.084507</td>\n    </tr>\n    <tr>\n      <th>9955</th>\n      <td>0.960280</td>\n      <td>0.883178</td>\n      <td>0.981308</td>\n      <td>0.960280</td>\n      <td>0.883178</td>\n      <td>0.981308</td>\n    </tr>\n    <tr>\n      <th>9958</th>\n      <td>0.951263</td>\n      <td>1.045020</td>\n      <td>1.049189</td>\n      <td>0.951263</td>\n      <td>1.045020</td>\n      <td>1.049189</td>\n    </tr>\n    <tr>\n      <th>9960</th>\n      <td>0.963220</td>\n      <td>0.949647</td>\n      <td>0.853866</td>\n      <td>0.963220</td>\n      <td>0.949647</td>\n      <td>0.853866</td>\n    </tr>\n  </tbody>\n</table>\n<p>91494 rows × 6 columns</p>\n</div>"
     },
     "metadata": {},
     "execution_count": 8
    }
   ],
   "source": [
    "df_ = []\n",
    "candlesitck_names = []\n",
    "for candlesitck in strategies:\n",
    "    df = pd.DataFrame(strategies[candlesitck])\n",
    "    candlesitck_names.append(candlesitck)\n",
    "    df_.append(df)\n",
    "\n",
    "df_total = pd.concat(df_, keys=candlesitck_names, axis=0)\n",
    "\n",
    "# 將 mutiple index 依照類型命名\n",
    "df_total.index.names = ['candlestick', df_total.index.names[1]]\n",
    "df_total\n",
    "\n",
    "# df_total.plot()"
   ]
  },
  {
   "cell_type": "markdown",
   "metadata": {},
   "source": [
    "## 取得所有策略的平均報酬率"
   ]
  },
  {
   "cell_type": "code",
   "execution_count": 9,
   "metadata": {},
   "outputs": [],
   "source": [
    "stock_id = '2374'\n",
    "\n",
    "profit_series = df_total.mean(axis=1)\n",
    "\n",
    "# 取得正負報酬率統計\n",
    "pos_profit = profit_series[profit_series > 1].mean(level=0)\n",
    "neg_profit = profit_series[profit_series < 1].mean(level=0)\n",
    "\n",
    "pos_profit_stk = profit_series[profit_series > 1].loc[:, [stock_id]].mean(level=0)\n",
    "neg_profit_stk = profit_series[profit_series < 1].loc[:, [stock_id]].mean(level=0)\n",
    "\n",
    "# 按照報酬率排序\n",
    "neg_profit = neg_profit.sort_values(ascending=True)\n",
    "pos_profit = pos_profit.sort_values(ascending=False)\n",
    "\n",
    "pos_profit_stk = pos_profit_stk.sort_values(ascending=False)\n",
    "neg_profit_stk = neg_profit_stk.sort_values(ascending=True)"
   ]
  },
  {
   "cell_type": "markdown",
   "metadata": {},
   "source": [
    "### 選擇 candlestick"
   ]
  },
  {
   "cell_type": "code",
   "execution_count": 10,
   "metadata": {},
   "outputs": [
    {
     "output_type": "stream",
     "name": "stdout",
     "text": "CDL2CROWS - Two Crows - overall performance rank: 61\nCDL3BLACKCROWS - Three Black Crows - overall performance rank: 3\nCDL3INSIDE - Three Inside Up - overall performance rank: 20\nCDL3INSIDE - Three Inside Down - overall performance rank: 56\nCDL3LINESTRIKE - Bearish Three-Line Strike - overall performance rank: 1\nCDL3LINESTRIKE - Bullish Three-Line Strike - overall performance rank: 2\nCDL3OUTSIDE - Three Outside Up - overall performance rank: 34\nCDL3OUTSIDE - Three Outside Down - overall performance rank: 39\nCDL3STARSINSOUTH - Three Stars in the South - overall performance rank: 103\nCDL3WHITESOLDIERS - Three White Soldiers - overall performance rank: 32\nCDLABANDONEDBABY - Bulkowski's Bearish Abandoned Baby - overall performance rank: 64\nCDLABANDONEDBABY - Bulkowski's Bullish Abandoned Baby - overall performance rank: 9\nCDLADVANCEBLOCK - Bulkowski's Advance Block - overall performance rank: 54\nCDLBELTHOLD - Bullish Belt Hold - overall performance rank: 62\nCDLBELTHOLD - Bearish Belt Hold - overall performance rank: 63\nCDLBREAKAWAY - Bullish Breakaway - overall performance rank: 45\nCDLBREAKAWAY - Bearish Breakaway - overall performance rank: 11\nCDLCLOSINGMARUBOZU - Closing White Marubozu - overall performance rank: 70\nCDLCLOSINGMARUBOZU - Bulkowski's Closing Black Marubozu - overall performance rank: 43\nCDLCONCEALBABYSWALL - Concealing Baby Swallow - overall performance rank: 101\nCDLCOUNTERATTACK - Error 403 - Forbidden - overall performance rank: \nCDLDARKCLOUDCOVER - Dark Cloud Cover - overall performance rank: 22\nCDLDOJI - Southern Doji - overall performance rank: 78\nCDLDOJI - Northern Doji - overall performance rank: 83\nCDLDOJISTAR - Bearish Doji Star - overall performance rank: 51\nCDLDOJISTAR - Bullish Doji Star - overall performance rank: 49\nCDLDOJISTAR - Collapsing Doji Star - overall performance rank: 97\nCDLDOJISTAR - Evening Doji Star - overall performance rank: 30\nCDLDRAGONFLYDOJI - Dragonfly Doji - overall performance rank: 98\nCDLENGULFING - Bearish Engulfing - overall performance rank: 91\nCDLENGULFING - Bullish Engulfing - overall performance rank: 84\nCDLEVENINGDOJISTAR - Evening Doji Star - overall performance rank: 30\nCDLEVENINGSTAR - Evening Star - overall performance rank: 4\nCDLGAPSIDESIDEWHITE - Bullish Side by Side White Lines - overall performance rank: 46\nCDLGAPSIDESIDEWHITE - Bearish Side by Side White Lines - overall performance rank: 29\nCDLGRAVESTONEDOJI - Gravestone Doji - overall performance rank: 77\nCDLHAMMER - Hammer - overall performance rank: 65\nCDLHANGINGMAN - Hanging Man - overall performance rank: 87\nCDLHARAMI - Bullish Harami - overall performance rank: 38\nCDLHARAMI - Bearish Harami - overall performance rank: 72\nCDLHARAMICROSS - Bullish Harami Cross - overall performance rank: 50\nCDLHARAMICROSS - Bearish Harami Cross - overall performance rank: 80\nCDLHIGHWAVE - High Wave - overall performance rank: 67\nCDLHIKKAKE - Bullish Hikkake - overall performance rank: 84\nCDLHIKKAKE - Bearish Hikkake - overall performance rank: 83\nCDLHIKKAKEMOD - Bullish Hikkake - overall performance rank: 84\nCDLHIKKAKEMOD - Bearish Hikkake - overall performance rank: 83\nCDLHOMINGPIGEON - Homing Pigeon - overall performance rank: 21\nCDLIDENTICAL3CROWS - Identical Three Crows - overall performance rank: 24\nCDLINNECK - In Neck - overall performance rank: 17\nCDLINVERTEDHAMMER - Inverted Hammer - overall performance rank: 6\nCDLKICKING - Bullish Kicking - overall performance rank: 96\nCDLKICKING - Bearish Kicking - overall performance rank: 102\nCDLKICKINGBYLENGTH - Error 403 - Forbidden - overall performance rank: \nCDLLADDERBOTTOM - Ladder Bottom - overall performance rank: 41\nCDLLONGLEGGEDDOJI - Long Legged Doji - overall performance rank: 37\nCDLLONGLINE - Long White Day - overall performance rank: 53\nCDLLONGLINE - Long Black Day - overall performance rank: 19\nCDLMARUBOZU - Black Marubozu - overall performance rank: 57\nCDLMARUBOZU - White Marubozu - overall performance rank: 71\nCDLMATCHINGLOW - Matching Low - overall performance rank: 8\nCDLMATHOLD - Mat Hold - overall performance rank: 86\nCDLMORNINGDOJISTAR - Morning Doji Star - overall performance rank: 25\nCDLMORNINGSTAR - Morning Star - overall performance rank: 12\nCDLONNECK - On Neck - overall performance rank: 33\nCDLPIERCING - Piercing Pattern - overall performance rank: 13\nCDLRICKSHAWMAN - Rickshaw Man - overall performance rank: \nCDLRISEFALL3METHODS - Rising Three Methods - overall performance rank: 94\nCDLSEPARATINGLINES - Bearish Separating Lines - overall performance rank: 40\nCDLSEPARATINGLINES - Bullish Separating Lines - overall performance rank: 36\nCDLSHOOTINGSTAR - Shooting Star - overall performance rank: 55\nCDLSHOOTINGSTAR - 2 Line Shooting Star - overall performance rank: 52\nCDLSHORTLINE - Short White Candle - overall performance rank: 85\nCDLSHORTLINE - Short Black Candle - overall performance rank: 66\nCDLSPINNINGTOP - White Spinning Top - overall performance rank: 69\nCDLSPINNINGTOP - Black Spinning Top - overall performance rank: 73\nCDLSTALLEDPATTERN - Error 403 - Forbidden - overall performance rank: \nCDLSTICKSANDWICH - Stick Sandwich - overall performance rank: 14\nCDLTAKURI - Takuri Line - overall performance rank: 47\nCDLTASUKIGAP - Upside Tasuki Gap - overall performance rank: 5\nCDLTASUKIGAP - Downside Tasuki Gap - overall performance rank: 23\nCDLTHRUSTING - Thrusting - overall performance rank: 15\nCDLTRISTAR - Bearish Tri-Star - overall performance rank: 76\nCDLTRISTAR - Bullish Tri-Star - overall performance rank: 28\nCDLUNIQUE3RIVER - Unique Three-River Bottom - overall performance rank: 60\nCDLUPSIDEGAP2CROWS - Upside Gap Two Crows - overall performance rank: 74\nCDLXSIDEGAP3METHODS - Upside Gap Three Methods - overall performance rank: 27\nCDLXSIDEGAP3METHODS - Downside Gap 3 Methods - overall performance rank: 26\n"
    }
   ],
   "source": [
    "from finlab import crawler\n",
    "from talib import abstract\n",
    "\n",
    "top_rank = []\n",
    "\n",
    "candlesticks = [fname for fname in dir(abstract) if fname[:3] == 'CDL']\n",
    "\n",
    "for index, fname in enumerate(candlesticks, 1):\n",
    "    candlesticks = crawler.crawl_candlestick_rank(fname)\n",
    "    for candlestick_dict in candlesticks:\n",
    "        print(f'{fname} - {candlestick_dict[\"candlestick\"]} - overall performance rank: {candlestick_dict[\"overall_performance_rank\"]}')\n",
    "        candlestick_dict['talibname'] = fname\n",
    "        top_rank.append(candlestick_dict)\n",
    ""
   ]
  },
  {
   "cell_type": "code",
   "execution_count": 1,
   "metadata": {},
   "outputs": [
    {
     "output_type": "error",
     "ename": "NameError",
     "evalue": "name 'top_rank' is not defined",
     "traceback": [
      "\u001b[0;31m---------------------------------------------------------------------------\u001b[0m",
      "\u001b[0;31mNameError\u001b[0m                                 Traceback (most recent call last)",
      "\u001b[0;32m<ipython-input-1-56f5bd386c79>\u001b[0m in \u001b[0;36m<module>\u001b[0;34m\u001b[0m\n\u001b[1;32m      1\u001b[0m \u001b[0;32mimport\u001b[0m \u001b[0mpandas\u001b[0m \u001b[0;32mas\u001b[0m \u001b[0mpd\u001b[0m\u001b[0;34m\u001b[0m\u001b[0;34m\u001b[0m\u001b[0m\n\u001b[0;32m----> 2\u001b[0;31m \u001b[0mdf\u001b[0m \u001b[0;34m=\u001b[0m \u001b[0mpd\u001b[0m\u001b[0;34m.\u001b[0m\u001b[0mDataFrame\u001b[0m\u001b[0;34m(\u001b[0m\u001b[0mtop_rank\u001b[0m\u001b[0;34m)\u001b[0m\u001b[0;34m\u001b[0m\u001b[0;34m\u001b[0m\u001b[0m\n\u001b[0m\u001b[1;32m      3\u001b[0m \u001b[0mdf\u001b[0m \u001b[0;34m=\u001b[0m \u001b[0mdf\u001b[0m\u001b[0;34m[\u001b[0m\u001b[0mdf\u001b[0m\u001b[0;34m[\u001b[0m\u001b[0;34m'theoretical_performance'\u001b[0m\u001b[0;34m]\u001b[0m \u001b[0;34m!=\u001b[0m \u001b[0;34m''\u001b[0m\u001b[0;34m]\u001b[0m\u001b[0;34m\u001b[0m\u001b[0;34m\u001b[0m\u001b[0m\n\u001b[1;32m      4\u001b[0m \u001b[0mdf\u001b[0m\u001b[0;34m[\u001b[0m\u001b[0;34m'overall_performance_rank'\u001b[0m\u001b[0;34m]\u001b[0m \u001b[0;34m=\u001b[0m \u001b[0mdf\u001b[0m\u001b[0;34m[\u001b[0m\u001b[0;34m'overall_performance_rank'\u001b[0m\u001b[0;34m]\u001b[0m\u001b[0;34m.\u001b[0m\u001b[0mastype\u001b[0m\u001b[0;34m(\u001b[0m\u001b[0mint\u001b[0m\u001b[0;34m)\u001b[0m\u001b[0;34m\u001b[0m\u001b[0;34m\u001b[0m\u001b[0m\n\u001b[1;32m      5\u001b[0m \u001b[0;34m\u001b[0m\u001b[0m\n",
      "\u001b[0;31mNameError\u001b[0m: name 'top_rank' is not defined"
     ]
    }
   ],
   "source": [
    "import pandas as pd\n",
    "df = pd.DataFrame(top_rank)\n",
    "df = df[df['theoretical_performance'] != '']\n",
    "df['overall_performance_rank'] = df['overall_performance_rank'].astype(int)\n",
    "\n",
    "df = df.sort_values(by=['overall_performance_rank'])\n",
    "\n",
    "neg_candlestick = df[df['theoretical_performance'].str.contains('Bearish reversal')].head(20)['talibname'].to_list()\n",
    "\n",
    "pos_candlestick = df[df['theoretical_performance'].str.contains('Bullish reversal')].head(10)['talibname'].to_list()\n",
    "\n",
    "# top_rank"
   ]
  },
  {
   "cell_type": "code",
   "execution_count": null,
   "metadata": {},
   "outputs": [],
   "source": [
    "# 取出要計算策略的candlestick\n",
    "# pos_candlestick = pos_profit_stk.head(3).index.to_list()\n",
    "\n",
    "# neg_candlestick = neg_profit_stk.head(2).index.to_list()"
   ]
  },
  {
   "cell_type": "code",
   "execution_count": null,
   "metadata": {},
   "outputs": [],
   "source": [
    "# 計算持有時間\n",
    "\n",
    "choosen_candlesticks = set(pos_candlestick + neg_candlestick)\n",
    "\n",
    "hold = pd.DataFrame(np.nan, index=open_adj.index, columns=choosen_candlesticks)\n",
    "\n",
    "for candlestick, signal in signals.items():    \n",
    "    if not candlestick in pos_candlestick:\n",
    "        continue\n",
    "\n",
    "    # 買入的時機\n",
    "    sig = signals[candlestick]['positive']\n",
    "    sig.index.names = ['stock_id', sig.index.names[1]]\n",
    "    sig = sig.loc[[stock_id], :].droplevel(level=0)\n",
    "    hold.loc[sig.index, [candlestick]] = hold.loc[sig.index, [candlestick]].add(1, fill_value = 0)\n",
    "    # print(hold.loc[sig.index, [candlestick]])\n",
    "\n",
    "for candlestick, signal in signals.items():    \n",
    "    if not candlestick in neg_candlestick:\n",
    "        continue\n",
    "    \n",
    "    # 賣出的時機 \n",
    "    sig = signals[candlestick]['negative']\n",
    "    sig.index.names = ['stock_id', sig.index.names[1]]\n",
    "    sig = sig.loc[[stock_id], :].droplevel(level=0)\n",
    "    hold.loc[sig.index, [candlestick]] = hold.loc[sig.index, [candlestick]].add(-1, fill_value = 0)\n",
    "    # print(hold.loc[sig.index, [candlestick]])\n",
    "\n",
    "hold = hold.ffill()\n",
    "hold = hold.fillna(0)\n",
    "hold_ = hold.sum(axis=1)\n",
    "hold_ = hold_.shift()\n",
    "hold_[hold_ > 0] = 1 \n",
    "hold_[hold_ < 0] = 0\n",
    "\n",
    "hold_.plot()\n",
    "\n",
    "# profit_series.loc[:, [stock_id]]\n",
    "# neg_profit_stk[candlesitck]"
   ]
  },
  {
   "cell_type": "markdown",
   "metadata": {},
   "source": [
    "## 計算報酬率"
   ]
  },
  {
   "cell_type": "code",
   "execution_count": 4,
   "metadata": {},
   "outputs": [
    {
     "output_type": "error",
     "ename": "NameError",
     "evalue": "name 'open_adj' is not defined",
     "traceback": [
      "\u001b[0;31m---------------------------------------------------------------------------\u001b[0m",
      "\u001b[0;31mNameError\u001b[0m                                 Traceback (most recent call last)",
      "\u001b[0;32m<ipython-input-4-85465219f3c3>\u001b[0m in \u001b[0;36m<module>\u001b[0;34m\u001b[0m\n\u001b[1;32m      1\u001b[0m \u001b[0;32mimport\u001b[0m \u001b[0mmatplotlib\u001b[0m\u001b[0;34m.\u001b[0m\u001b[0mpyplot\u001b[0m \u001b[0;32mas\u001b[0m \u001b[0mplt\u001b[0m\u001b[0;34m\u001b[0m\u001b[0;34m\u001b[0m\u001b[0m\n\u001b[1;32m      2\u001b[0m \u001b[0;34m\u001b[0m\u001b[0m\n\u001b[0;32m----> 3\u001b[0;31m \u001b[0mret\u001b[0m \u001b[0;34m=\u001b[0m  \u001b[0mopen_adj\u001b[0m\u001b[0;34m.\u001b[0m\u001b[0mshift\u001b[0m\u001b[0;34m(\u001b[0m\u001b[0;34m-\u001b[0m\u001b[0;36m1\u001b[0m\u001b[0;34m)\u001b[0m \u001b[0;34m/\u001b[0m \u001b[0mopen_adj\u001b[0m\u001b[0;34m\u001b[0m\u001b[0;34m\u001b[0m\u001b[0m\n\u001b[0m\u001b[1;32m      4\u001b[0m \u001b[0mret\u001b[0m \u001b[0;34m=\u001b[0m \u001b[0mret\u001b[0m\u001b[0;34m.\u001b[0m\u001b[0mfillna\u001b[0m\u001b[0;34m(\u001b[0m\u001b[0;36m1\u001b[0m\u001b[0;34m)\u001b[0m\u001b[0;34m\u001b[0m\u001b[0;34m\u001b[0m\u001b[0m\n\u001b[1;32m      5\u001b[0m \u001b[0mret\u001b[0m \u001b[0;34m=\u001b[0m \u001b[0mret\u001b[0m\u001b[0;34m[\u001b[0m\u001b[0mstock_id\u001b[0m\u001b[0;34m]\u001b[0m\u001b[0;34m\u001b[0m\u001b[0;34m\u001b[0m\u001b[0m\n",
      "\u001b[0;31mNameError\u001b[0m: name 'open_adj' is not defined"
     ]
    }
   ],
   "source": [
    "import matplotlib.pyplot as plt\n",
    "\n",
    "ret =  open_adj.shift(-1) / open_adj\n",
    "ret = ret.fillna(1)\n",
    "ret = ret[stock_id]\n",
    "ret_expect = ret.cumprod()\n",
    "ax1 = ret_expect.plot(label='always taken')\n",
    "h1, l1 = ax1.get_legend_handles_labels()\n",
    "\n",
    "ret[hold_ != 1]= np.nan\n",
    "ret_final = ret.fillna(1).cumprod()\n",
    "ax2 = ret_final.plot(label='candlestick stategy')\n",
    "h2, l2 = ax2.get_legend_handles_labels()\n",
    "\n",
    "plt.legend(h2, l2, loc=2)\n",
    "plt.show()"
   ]
  },
  {
   "cell_type": "markdown",
   "metadata": {},
   "source": [
    "## 考慮手續費\n",
    "\n",
    "### rebalance 找出買進賣出的時機點\n",
    "依靠 hold 持有的變化 找出買進賣出的時間, 並將 每個時間區間點做group by  \n",
    "就可以計算第一個時間點到第二個時間點前的報酬率  \n",
    "分組計算報酬率後，就可以說是持有時的報酬率\n",
    "> ps : 請看最下面的解釋範例"
   ]
  },
  {
   "cell_type": "code",
   "execution_count": 15,
   "metadata": {},
   "outputs": [],
   "source": [
    "# 計算實際買入賣出報酬率\n",
    "rebalance = (hold_.diff().abs() != 0).cumsum()\n",
    "rebalance_hold = hold_[rebalance.diff() != 0]"
   ]
  },
  {
   "cell_type": "code",
   "execution_count": 60,
   "metadata": {},
   "outputs": [
    {
     "output_type": "stream",
     "name": "stdout",
     "text": "扣掉tax_ratio date\n2007-04-23    1.000000\n2007-04-24    1.000000\n2007-05-03    1.135089\n2007-05-21    0.995575\n2007-08-15    1.232955\n2007-10-18    0.995575\n2008-09-08    1.804414\n2011-01-13    0.995575\n2016-10-03    0.982655\ndtype: float64\ntax_ratio date\n2007-05-03    0.001425\n2007-05-21    0.004425\n2007-08-15    0.001425\n2007-10-18    0.004425\n2008-09-08    0.001425\n2011-01-13    0.004425\n2016-10-03    0.001425\ndtype: float64\n沒有扣掉tax_ratio date\n2007-04-23    1.000000\n2007-04-24    1.000000\n2007-05-03    1.136709\n2007-05-21    1.000000\n2007-08-15    1.234715\n2007-10-18    1.000000\n2008-09-08    1.806989\n2011-01-13    1.000000\n2016-10-03    0.984058\nName: 2374, dtype: float64\n"
    },
    {
     "output_type": "execute_result",
     "data": {
      "text/plain": "date\n2007-04-23    1.000000\n2007-04-24    1.000000\n2007-05-03    1.136709\n2007-05-21    1.136709\n2007-08-15    1.403511\n2007-10-18    1.403511\n2008-09-08    2.536130\n2011-01-13    2.536130\n2016-10-03    2.495698\nName: 2374, dtype: float64"
     },
     "metadata": {},
     "execution_count": 60
    },
    {
     "output_type": "display_data",
     "data": {
      "text/plain": "<Figure size 432x288 with 1 Axes>",
      "image/svg+xml": "<?xml version=\"1.0\" encoding=\"utf-8\" standalone=\"no\"?>\n<!DOCTYPE svg PUBLIC \"-//W3C//DTD SVG 1.1//EN\"\n  \"http://www.w3.org/Graphics/SVG/1.1/DTD/svg11.dtd\">\n<!-- Created with matplotlib (https://matplotlib.org/) -->\n<svg height=\"254.324575pt\" version=\"1.1\" viewBox=\"0 0 372.103125 254.324575\" width=\"372.103125pt\" xmlns=\"http://www.w3.org/2000/svg\" xmlns:xlink=\"http://www.w3.org/1999/xlink\">\n <defs>\n  <style type=\"text/css\">\n*{stroke-linecap:butt;stroke-linejoin:round;}\n  </style>\n </defs>\n <g id=\"figure_1\">\n  <g id=\"patch_1\">\n   <path d=\"M 0 254.324575 \nL 372.103125 254.324575 \nL 372.103125 0 \nL 0 0 \nz\n\" style=\"fill:none;\"/>\n  </g>\n  <g id=\"axes_1\">\n   <g id=\"patch_2\">\n    <path d=\"M 30.103125 205.339948 \nL 364.903125 205.339948 \nL 364.903125 9.499948 \nL 30.103125 9.499948 \nz\n\" style=\"fill:#ffffff;\"/>\n   </g>\n   <g id=\"matplotlib.axis_1\">\n    <g id=\"xtick_1\">\n     <g id=\"line2d_1\">\n      <defs>\n       <path d=\"M 0 0 \nL 0 3.5 \n\" id=\"m36d47694eb\" style=\"stroke:#000000;stroke-width:0.8;\"/>\n      </defs>\n      <g>\n       <use style=\"stroke:#000000;stroke-width:0.8;\" x=\"35.443379\" xlink:href=\"#m36d47694eb\" y=\"205.339948\"/>\n      </g>\n     </g>\n     <g id=\"text_1\">\n      <!-- 2007 -->\n      <defs>\n       <path d=\"M 19.1875 8.296875 \nL 53.609375 8.296875 \nL 53.609375 0 \nL 7.328125 0 \nL 7.328125 8.296875 \nQ 12.9375 14.109375 22.625 23.890625 \nQ 32.328125 33.6875 34.8125 36.53125 \nQ 39.546875 41.84375 41.421875 45.53125 \nQ 43.3125 49.21875 43.3125 52.78125 \nQ 43.3125 58.59375 39.234375 62.25 \nQ 35.15625 65.921875 28.609375 65.921875 \nQ 23.96875 65.921875 18.8125 64.3125 \nQ 13.671875 62.703125 7.8125 59.421875 \nL 7.8125 69.390625 \nQ 13.765625 71.78125 18.9375 73 \nQ 24.125 74.21875 28.421875 74.21875 \nQ 39.75 74.21875 46.484375 68.546875 \nQ 53.21875 62.890625 53.21875 53.421875 \nQ 53.21875 48.921875 51.53125 44.890625 \nQ 49.859375 40.875 45.40625 35.40625 \nQ 44.1875 33.984375 37.640625 27.21875 \nQ 31.109375 20.453125 19.1875 8.296875 \nz\n\" id=\"DejaVuSans-50\"/>\n       <path d=\"M 31.78125 66.40625 \nQ 24.171875 66.40625 20.328125 58.90625 \nQ 16.5 51.421875 16.5 36.375 \nQ 16.5 21.390625 20.328125 13.890625 \nQ 24.171875 6.390625 31.78125 6.390625 \nQ 39.453125 6.390625 43.28125 13.890625 \nQ 47.125 21.390625 47.125 36.375 \nQ 47.125 51.421875 43.28125 58.90625 \nQ 39.453125 66.40625 31.78125 66.40625 \nz\nM 31.78125 74.21875 \nQ 44.046875 74.21875 50.515625 64.515625 \nQ 56.984375 54.828125 56.984375 36.375 \nQ 56.984375 17.96875 50.515625 8.265625 \nQ 44.046875 -1.421875 31.78125 -1.421875 \nQ 19.53125 -1.421875 13.0625 8.265625 \nQ 6.59375 17.96875 6.59375 36.375 \nQ 6.59375 54.828125 13.0625 64.515625 \nQ 19.53125 74.21875 31.78125 74.21875 \nz\n\" id=\"DejaVuSans-48\"/>\n       <path d=\"M 8.203125 72.90625 \nL 55.078125 72.90625 \nL 55.078125 68.703125 \nL 28.609375 0 \nL 18.3125 0 \nL 43.21875 64.59375 \nL 8.203125 64.59375 \nz\n\" id=\"DejaVuSans-55\"/>\n      </defs>\n      <g transform=\"translate(12.363189 231.645388)rotate(-30)scale(0.1 -0.1)\">\n       <use xlink:href=\"#DejaVuSans-50\"/>\n       <use x=\"63.623047\" xlink:href=\"#DejaVuSans-48\"/>\n       <use x=\"127.246094\" xlink:href=\"#DejaVuSans-48\"/>\n       <use x=\"190.869141\" xlink:href=\"#DejaVuSans-55\"/>\n      </g>\n     </g>\n    </g>\n    <g id=\"xtick_2\">\n     <g id=\"line2d_2\">\n      <g>\n       <use style=\"stroke:#000000;stroke-width:0.8;\" x=\"67.634839\" xlink:href=\"#m36d47694eb\" y=\"205.339948\"/>\n      </g>\n     </g>\n     <g id=\"text_2\">\n      <!-- 2008 -->\n      <defs>\n       <path d=\"M 31.78125 34.625 \nQ 24.75 34.625 20.71875 30.859375 \nQ 16.703125 27.09375 16.703125 20.515625 \nQ 16.703125 13.921875 20.71875 10.15625 \nQ 24.75 6.390625 31.78125 6.390625 \nQ 38.8125 6.390625 42.859375 10.171875 \nQ 46.921875 13.96875 46.921875 20.515625 \nQ 46.921875 27.09375 42.890625 30.859375 \nQ 38.875 34.625 31.78125 34.625 \nz\nM 21.921875 38.8125 \nQ 15.578125 40.375 12.03125 44.71875 \nQ 8.5 49.078125 8.5 55.328125 \nQ 8.5 64.0625 14.71875 69.140625 \nQ 20.953125 74.21875 31.78125 74.21875 \nQ 42.671875 74.21875 48.875 69.140625 \nQ 55.078125 64.0625 55.078125 55.328125 \nQ 55.078125 49.078125 51.53125 44.71875 \nQ 48 40.375 41.703125 38.8125 \nQ 48.828125 37.15625 52.796875 32.3125 \nQ 56.78125 27.484375 56.78125 20.515625 \nQ 56.78125 9.90625 50.3125 4.234375 \nQ 43.84375 -1.421875 31.78125 -1.421875 \nQ 19.734375 -1.421875 13.25 4.234375 \nQ 6.78125 9.90625 6.78125 20.515625 \nQ 6.78125 27.484375 10.78125 32.3125 \nQ 14.796875 37.15625 21.921875 38.8125 \nz\nM 18.3125 54.390625 \nQ 18.3125 48.734375 21.84375 45.5625 \nQ 25.390625 42.390625 31.78125 42.390625 \nQ 38.140625 42.390625 41.71875 45.5625 \nQ 45.3125 48.734375 45.3125 54.390625 \nQ 45.3125 60.0625 41.71875 63.234375 \nQ 38.140625 66.40625 31.78125 66.40625 \nQ 25.390625 66.40625 21.84375 63.234375 \nQ 18.3125 60.0625 18.3125 54.390625 \nz\n\" id=\"DejaVuSans-56\"/>\n      </defs>\n      <g transform=\"translate(44.554649 231.645388)rotate(-30)scale(0.1 -0.1)\">\n       <use xlink:href=\"#DejaVuSans-50\"/>\n       <use x=\"63.623047\" xlink:href=\"#DejaVuSans-48\"/>\n       <use x=\"127.246094\" xlink:href=\"#DejaVuSans-48\"/>\n       <use x=\"190.869141\" xlink:href=\"#DejaVuSans-56\"/>\n      </g>\n     </g>\n    </g>\n    <g id=\"xtick_3\">\n     <g id=\"line2d_3\">\n      <g>\n       <use style=\"stroke:#000000;stroke-width:0.8;\" x=\"99.914495\" xlink:href=\"#m36d47694eb\" y=\"205.339948\"/>\n      </g>\n     </g>\n     <g id=\"text_3\">\n      <!-- 2009 -->\n      <defs>\n       <path d=\"M 10.984375 1.515625 \nL 10.984375 10.5 \nQ 14.703125 8.734375 18.5 7.8125 \nQ 22.3125 6.890625 25.984375 6.890625 \nQ 35.75 6.890625 40.890625 13.453125 \nQ 46.046875 20.015625 46.78125 33.40625 \nQ 43.953125 29.203125 39.59375 26.953125 \nQ 35.25 24.703125 29.984375 24.703125 \nQ 19.046875 24.703125 12.671875 31.3125 \nQ 6.296875 37.9375 6.296875 49.421875 \nQ 6.296875 60.640625 12.9375 67.421875 \nQ 19.578125 74.21875 30.609375 74.21875 \nQ 43.265625 74.21875 49.921875 64.515625 \nQ 56.59375 54.828125 56.59375 36.375 \nQ 56.59375 19.140625 48.40625 8.859375 \nQ 40.234375 -1.421875 26.421875 -1.421875 \nQ 22.703125 -1.421875 18.890625 -0.6875 \nQ 15.09375 0.046875 10.984375 1.515625 \nz\nM 30.609375 32.421875 \nQ 37.25 32.421875 41.125 36.953125 \nQ 45.015625 41.5 45.015625 49.421875 \nQ 45.015625 57.28125 41.125 61.84375 \nQ 37.25 66.40625 30.609375 66.40625 \nQ 23.96875 66.40625 20.09375 61.84375 \nQ 16.21875 57.28125 16.21875 49.421875 \nQ 16.21875 41.5 20.09375 36.953125 \nQ 23.96875 32.421875 30.609375 32.421875 \nz\n\" id=\"DejaVuSans-57\"/>\n      </defs>\n      <g transform=\"translate(76.834304 231.645388)rotate(-30)scale(0.1 -0.1)\">\n       <use xlink:href=\"#DejaVuSans-50\"/>\n       <use x=\"63.623047\" xlink:href=\"#DejaVuSans-48\"/>\n       <use x=\"127.246094\" xlink:href=\"#DejaVuSans-48\"/>\n       <use x=\"190.869141\" xlink:href=\"#DejaVuSans-57\"/>\n      </g>\n     </g>\n    </g>\n    <g id=\"xtick_4\">\n     <g id=\"line2d_4\">\n      <g>\n       <use style=\"stroke:#000000;stroke-width:0.8;\" x=\"132.105954\" xlink:href=\"#m36d47694eb\" y=\"205.339948\"/>\n      </g>\n     </g>\n     <g id=\"text_4\">\n      <!-- 2010 -->\n      <defs>\n       <path d=\"M 12.40625 8.296875 \nL 28.515625 8.296875 \nL 28.515625 63.921875 \nL 10.984375 60.40625 \nL 10.984375 69.390625 \nL 28.421875 72.90625 \nL 38.28125 72.90625 \nL 38.28125 8.296875 \nL 54.390625 8.296875 \nL 54.390625 0 \nL 12.40625 0 \nz\n\" id=\"DejaVuSans-49\"/>\n      </defs>\n      <g transform=\"translate(109.025764 231.645388)rotate(-30)scale(0.1 -0.1)\">\n       <use xlink:href=\"#DejaVuSans-50\"/>\n       <use x=\"63.623047\" xlink:href=\"#DejaVuSans-48\"/>\n       <use x=\"127.246094\" xlink:href=\"#DejaVuSans-49\"/>\n       <use x=\"190.869141\" xlink:href=\"#DejaVuSans-48\"/>\n      </g>\n     </g>\n    </g>\n    <g id=\"xtick_5\">\n     <g id=\"line2d_5\">\n      <g>\n       <use style=\"stroke:#000000;stroke-width:0.8;\" x=\"164.297414\" xlink:href=\"#m36d47694eb\" y=\"205.339948\"/>\n      </g>\n     </g>\n     <g id=\"text_5\">\n      <!-- 2011 -->\n      <g transform=\"translate(141.217224 231.645388)rotate(-30)scale(0.1 -0.1)\">\n       <use xlink:href=\"#DejaVuSans-50\"/>\n       <use x=\"63.623047\" xlink:href=\"#DejaVuSans-48\"/>\n       <use x=\"127.246094\" xlink:href=\"#DejaVuSans-49\"/>\n       <use x=\"190.869141\" xlink:href=\"#DejaVuSans-49\"/>\n      </g>\n     </g>\n    </g>\n    <g id=\"xtick_6\">\n     <g id=\"line2d_6\">\n      <g>\n       <use style=\"stroke:#000000;stroke-width:0.8;\" x=\"196.488874\" xlink:href=\"#m36d47694eb\" y=\"205.339948\"/>\n      </g>\n     </g>\n     <g id=\"text_6\">\n      <!-- 2012 -->\n      <g transform=\"translate(173.408683 231.645388)rotate(-30)scale(0.1 -0.1)\">\n       <use xlink:href=\"#DejaVuSans-50\"/>\n       <use x=\"63.623047\" xlink:href=\"#DejaVuSans-48\"/>\n       <use x=\"127.246094\" xlink:href=\"#DejaVuSans-49\"/>\n       <use x=\"190.869141\" xlink:href=\"#DejaVuSans-50\"/>\n      </g>\n     </g>\n    </g>\n    <g id=\"xtick_7\">\n     <g id=\"line2d_7\">\n      <g>\n       <use style=\"stroke:#000000;stroke-width:0.8;\" x=\"228.768529\" xlink:href=\"#m36d47694eb\" y=\"205.339948\"/>\n      </g>\n     </g>\n     <g id=\"text_7\">\n      <!-- 2013 -->\n      <defs>\n       <path d=\"M 40.578125 39.3125 \nQ 47.65625 37.796875 51.625 33 \nQ 55.609375 28.21875 55.609375 21.1875 \nQ 55.609375 10.40625 48.1875 4.484375 \nQ 40.765625 -1.421875 27.09375 -1.421875 \nQ 22.515625 -1.421875 17.65625 -0.515625 \nQ 12.796875 0.390625 7.625 2.203125 \nL 7.625 11.71875 \nQ 11.71875 9.328125 16.59375 8.109375 \nQ 21.484375 6.890625 26.8125 6.890625 \nQ 36.078125 6.890625 40.9375 10.546875 \nQ 45.796875 14.203125 45.796875 21.1875 \nQ 45.796875 27.640625 41.28125 31.265625 \nQ 36.765625 34.90625 28.71875 34.90625 \nL 20.21875 34.90625 \nL 20.21875 43.015625 \nL 29.109375 43.015625 \nQ 36.375 43.015625 40.234375 45.921875 \nQ 44.09375 48.828125 44.09375 54.296875 \nQ 44.09375 59.90625 40.109375 62.90625 \nQ 36.140625 65.921875 28.71875 65.921875 \nQ 24.65625 65.921875 20.015625 65.03125 \nQ 15.375 64.15625 9.8125 62.3125 \nL 9.8125 71.09375 \nQ 15.4375 72.65625 20.34375 73.4375 \nQ 25.25 74.21875 29.59375 74.21875 \nQ 40.828125 74.21875 47.359375 69.109375 \nQ 53.90625 64.015625 53.90625 55.328125 \nQ 53.90625 49.265625 50.4375 45.09375 \nQ 46.96875 40.921875 40.578125 39.3125 \nz\n\" id=\"DejaVuSans-51\"/>\n      </defs>\n      <g transform=\"translate(205.688339 231.645388)rotate(-30)scale(0.1 -0.1)\">\n       <use xlink:href=\"#DejaVuSans-50\"/>\n       <use x=\"63.623047\" xlink:href=\"#DejaVuSans-48\"/>\n       <use x=\"127.246094\" xlink:href=\"#DejaVuSans-49\"/>\n       <use x=\"190.869141\" xlink:href=\"#DejaVuSans-51\"/>\n      </g>\n     </g>\n    </g>\n    <g id=\"xtick_8\">\n     <g id=\"line2d_8\">\n      <g>\n       <use style=\"stroke:#000000;stroke-width:0.8;\" x=\"260.959989\" xlink:href=\"#m36d47694eb\" y=\"205.339948\"/>\n      </g>\n     </g>\n     <g id=\"text_8\">\n      <!-- 2014 -->\n      <defs>\n       <path d=\"M 37.796875 64.3125 \nL 12.890625 25.390625 \nL 37.796875 25.390625 \nz\nM 35.203125 72.90625 \nL 47.609375 72.90625 \nL 47.609375 25.390625 \nL 58.015625 25.390625 \nL 58.015625 17.1875 \nL 47.609375 17.1875 \nL 47.609375 0 \nL 37.796875 0 \nL 37.796875 17.1875 \nL 4.890625 17.1875 \nL 4.890625 26.703125 \nz\n\" id=\"DejaVuSans-52\"/>\n      </defs>\n      <g transform=\"translate(237.879798 231.645388)rotate(-30)scale(0.1 -0.1)\">\n       <use xlink:href=\"#DejaVuSans-50\"/>\n       <use x=\"63.623047\" xlink:href=\"#DejaVuSans-48\"/>\n       <use x=\"127.246094\" xlink:href=\"#DejaVuSans-49\"/>\n       <use x=\"190.869141\" xlink:href=\"#DejaVuSans-52\"/>\n      </g>\n     </g>\n    </g>\n    <g id=\"xtick_9\">\n     <g id=\"line2d_9\">\n      <g>\n       <use style=\"stroke:#000000;stroke-width:0.8;\" x=\"293.151448\" xlink:href=\"#m36d47694eb\" y=\"205.339948\"/>\n      </g>\n     </g>\n     <g id=\"text_9\">\n      <!-- 2015 -->\n      <defs>\n       <path d=\"M 10.796875 72.90625 \nL 49.515625 72.90625 \nL 49.515625 64.59375 \nL 19.828125 64.59375 \nL 19.828125 46.734375 \nQ 21.96875 47.46875 24.109375 47.828125 \nQ 26.265625 48.1875 28.421875 48.1875 \nQ 40.625 48.1875 47.75 41.5 \nQ 54.890625 34.8125 54.890625 23.390625 \nQ 54.890625 11.625 47.5625 5.09375 \nQ 40.234375 -1.421875 26.90625 -1.421875 \nQ 22.3125 -1.421875 17.546875 -0.640625 \nQ 12.796875 0.140625 7.71875 1.703125 \nL 7.71875 11.625 \nQ 12.109375 9.234375 16.796875 8.0625 \nQ 21.484375 6.890625 26.703125 6.890625 \nQ 35.15625 6.890625 40.078125 11.328125 \nQ 45.015625 15.765625 45.015625 23.390625 \nQ 45.015625 31 40.078125 35.4375 \nQ 35.15625 39.890625 26.703125 39.890625 \nQ 22.75 39.890625 18.8125 39.015625 \nQ 14.890625 38.140625 10.796875 36.28125 \nz\n\" id=\"DejaVuSans-53\"/>\n      </defs>\n      <g transform=\"translate(270.071258 231.645388)rotate(-30)scale(0.1 -0.1)\">\n       <use xlink:href=\"#DejaVuSans-50\"/>\n       <use x=\"63.623047\" xlink:href=\"#DejaVuSans-48\"/>\n       <use x=\"127.246094\" xlink:href=\"#DejaVuSans-49\"/>\n       <use x=\"190.869141\" xlink:href=\"#DejaVuSans-53\"/>\n      </g>\n     </g>\n    </g>\n    <g id=\"xtick_10\">\n     <g id=\"line2d_10\">\n      <g>\n       <use style=\"stroke:#000000;stroke-width:0.8;\" x=\"325.342908\" xlink:href=\"#m36d47694eb\" y=\"205.339948\"/>\n      </g>\n     </g>\n     <g id=\"text_10\">\n      <!-- 2016 -->\n      <defs>\n       <path d=\"M 33.015625 40.375 \nQ 26.375 40.375 22.484375 35.828125 \nQ 18.609375 31.296875 18.609375 23.390625 \nQ 18.609375 15.53125 22.484375 10.953125 \nQ 26.375 6.390625 33.015625 6.390625 \nQ 39.65625 6.390625 43.53125 10.953125 \nQ 47.40625 15.53125 47.40625 23.390625 \nQ 47.40625 31.296875 43.53125 35.828125 \nQ 39.65625 40.375 33.015625 40.375 \nz\nM 52.59375 71.296875 \nL 52.59375 62.3125 \nQ 48.875 64.0625 45.09375 64.984375 \nQ 41.3125 65.921875 37.59375 65.921875 \nQ 27.828125 65.921875 22.671875 59.328125 \nQ 17.53125 52.734375 16.796875 39.40625 \nQ 19.671875 43.65625 24.015625 45.921875 \nQ 28.375 48.1875 33.59375 48.1875 \nQ 44.578125 48.1875 50.953125 41.515625 \nQ 57.328125 34.859375 57.328125 23.390625 \nQ 57.328125 12.15625 50.6875 5.359375 \nQ 44.046875 -1.421875 33.015625 -1.421875 \nQ 20.359375 -1.421875 13.671875 8.265625 \nQ 6.984375 17.96875 6.984375 36.375 \nQ 6.984375 53.65625 15.1875 63.9375 \nQ 23.390625 74.21875 37.203125 74.21875 \nQ 40.921875 74.21875 44.703125 73.484375 \nQ 48.484375 72.75 52.59375 71.296875 \nz\n\" id=\"DejaVuSans-54\"/>\n      </defs>\n      <g transform=\"translate(302.262718 231.645388)rotate(-30)scale(0.1 -0.1)\">\n       <use xlink:href=\"#DejaVuSans-50\"/>\n       <use x=\"63.623047\" xlink:href=\"#DejaVuSans-48\"/>\n       <use x=\"127.246094\" xlink:href=\"#DejaVuSans-49\"/>\n       <use x=\"190.869141\" xlink:href=\"#DejaVuSans-54\"/>\n      </g>\n     </g>\n    </g>\n    <g id=\"xtick_11\">\n     <g id=\"line2d_11\">\n      <g>\n       <use style=\"stroke:#000000;stroke-width:0.8;\" x=\"357.622563\" xlink:href=\"#m36d47694eb\" y=\"205.339948\"/>\n      </g>\n     </g>\n     <g id=\"text_11\">\n      <!-- 2017 -->\n      <g transform=\"translate(334.542373 231.645388)rotate(-30)scale(0.1 -0.1)\">\n       <use xlink:href=\"#DejaVuSans-50\"/>\n       <use x=\"63.623047\" xlink:href=\"#DejaVuSans-48\"/>\n       <use x=\"127.246094\" xlink:href=\"#DejaVuSans-49\"/>\n       <use x=\"190.869141\" xlink:href=\"#DejaVuSans-55\"/>\n      </g>\n     </g>\n    </g>\n    <g id=\"text_12\">\n     <!-- date -->\n     <defs>\n      <path d=\"M 45.40625 46.390625 \nL 45.40625 75.984375 \nL 54.390625 75.984375 \nL 54.390625 0 \nL 45.40625 0 \nL 45.40625 8.203125 \nQ 42.578125 3.328125 38.25 0.953125 \nQ 33.9375 -1.421875 27.875 -1.421875 \nQ 17.96875 -1.421875 11.734375 6.484375 \nQ 5.515625 14.40625 5.515625 27.296875 \nQ 5.515625 40.1875 11.734375 48.09375 \nQ 17.96875 56 27.875 56 \nQ 33.9375 56 38.25 53.625 \nQ 42.578125 51.265625 45.40625 46.390625 \nz\nM 14.796875 27.296875 \nQ 14.796875 17.390625 18.875 11.75 \nQ 22.953125 6.109375 30.078125 6.109375 \nQ 37.203125 6.109375 41.296875 11.75 \nQ 45.40625 17.390625 45.40625 27.296875 \nQ 45.40625 37.203125 41.296875 42.84375 \nQ 37.203125 48.484375 30.078125 48.484375 \nQ 22.953125 48.484375 18.875 42.84375 \nQ 14.796875 37.203125 14.796875 27.296875 \nz\n\" id=\"DejaVuSans-100\"/>\n      <path d=\"M 34.28125 27.484375 \nQ 23.390625 27.484375 19.1875 25 \nQ 14.984375 22.515625 14.984375 16.5 \nQ 14.984375 11.71875 18.140625 8.90625 \nQ 21.296875 6.109375 26.703125 6.109375 \nQ 34.1875 6.109375 38.703125 11.40625 \nQ 43.21875 16.703125 43.21875 25.484375 \nL 43.21875 27.484375 \nz\nM 52.203125 31.203125 \nL 52.203125 0 \nL 43.21875 0 \nL 43.21875 8.296875 \nQ 40.140625 3.328125 35.546875 0.953125 \nQ 30.953125 -1.421875 24.3125 -1.421875 \nQ 15.921875 -1.421875 10.953125 3.296875 \nQ 6 8.015625 6 15.921875 \nQ 6 25.140625 12.171875 29.828125 \nQ 18.359375 34.515625 30.609375 34.515625 \nL 43.21875 34.515625 \nL 43.21875 35.40625 \nQ 43.21875 41.609375 39.140625 45 \nQ 35.0625 48.390625 27.6875 48.390625 \nQ 23 48.390625 18.546875 47.265625 \nQ 14.109375 46.140625 10.015625 43.890625 \nL 10.015625 52.203125 \nQ 14.9375 54.109375 19.578125 55.046875 \nQ 24.21875 56 28.609375 56 \nQ 40.484375 56 46.34375 49.84375 \nQ 52.203125 43.703125 52.203125 31.203125 \nz\n\" id=\"DejaVuSans-97\"/>\n      <path d=\"M 18.3125 70.21875 \nL 18.3125 54.6875 \nL 36.8125 54.6875 \nL 36.8125 47.703125 \nL 18.3125 47.703125 \nL 18.3125 18.015625 \nQ 18.3125 11.328125 20.140625 9.421875 \nQ 21.96875 7.515625 27.59375 7.515625 \nL 36.8125 7.515625 \nL 36.8125 0 \nL 27.59375 0 \nQ 17.1875 0 13.234375 3.875 \nQ 9.28125 7.765625 9.28125 18.015625 \nL 9.28125 47.703125 \nL 2.6875 47.703125 \nL 2.6875 54.6875 \nL 9.28125 54.6875 \nL 9.28125 70.21875 \nz\n\" id=\"DejaVuSans-116\"/>\n      <path d=\"M 56.203125 29.59375 \nL 56.203125 25.203125 \nL 14.890625 25.203125 \nQ 15.484375 15.921875 20.484375 11.0625 \nQ 25.484375 6.203125 34.421875 6.203125 \nQ 39.59375 6.203125 44.453125 7.46875 \nQ 49.3125 8.734375 54.109375 11.28125 \nL 54.109375 2.78125 \nQ 49.265625 0.734375 44.1875 -0.34375 \nQ 39.109375 -1.421875 33.890625 -1.421875 \nQ 20.796875 -1.421875 13.15625 6.1875 \nQ 5.515625 13.8125 5.515625 26.8125 \nQ 5.515625 40.234375 12.765625 48.109375 \nQ 20.015625 56 32.328125 56 \nQ 43.359375 56 49.78125 48.890625 \nQ 56.203125 41.796875 56.203125 29.59375 \nz\nM 47.21875 32.234375 \nQ 47.125 39.59375 43.09375 43.984375 \nQ 39.0625 48.390625 32.421875 48.390625 \nQ 24.90625 48.390625 20.390625 44.140625 \nQ 15.875 39.890625 15.1875 32.171875 \nz\n\" id=\"DejaVuSans-101\"/>\n     </defs>\n     <g transform=\"translate(186.228125 245.044887)scale(0.1 -0.1)\">\n      <use xlink:href=\"#DejaVuSans-100\"/>\n      <use x=\"63.476562\" xlink:href=\"#DejaVuSans-97\"/>\n      <use x=\"124.755859\" xlink:href=\"#DejaVuSans-116\"/>\n      <use x=\"163.964844\" xlink:href=\"#DejaVuSans-101\"/>\n     </g>\n    </g>\n   </g>\n   <g id=\"matplotlib.axis_2\">\n    <g id=\"ytick_1\">\n     <g id=\"line2d_12\">\n      <defs>\n       <path d=\"M 0 0 \nL -3.5 0 \n\" id=\"m368ea33d2b\" style=\"stroke:#000000;stroke-width:0.8;\"/>\n      </defs>\n      <g>\n       <use style=\"stroke:#000000;stroke-width:0.8;\" x=\"30.103125\" xlink:href=\"#m368ea33d2b\" y=\"196.438129\"/>\n      </g>\n     </g>\n     <g id=\"text_13\">\n      <!-- 1.0 -->\n      <defs>\n       <path d=\"M 10.6875 12.40625 \nL 21 12.40625 \nL 21 0 \nL 10.6875 0 \nz\n\" id=\"DejaVuSans-46\"/>\n      </defs>\n      <g transform=\"translate(7.2 200.237348)scale(0.1 -0.1)\">\n       <use xlink:href=\"#DejaVuSans-49\"/>\n       <use x=\"63.623047\" xlink:href=\"#DejaVuSans-46\"/>\n       <use x=\"95.410156\" xlink:href=\"#DejaVuSans-48\"/>\n      </g>\n     </g>\n    </g>\n    <g id=\"ytick_2\">\n     <g id=\"line2d_13\">\n      <g>\n       <use style=\"stroke:#000000;stroke-width:0.8;\" x=\"30.103125\" xlink:href=\"#m368ea33d2b\" y=\"173.258266\"/>\n      </g>\n     </g>\n     <g id=\"text_14\">\n      <!-- 1.2 -->\n      <g transform=\"translate(7.2 177.057484)scale(0.1 -0.1)\">\n       <use xlink:href=\"#DejaVuSans-49\"/>\n       <use x=\"63.623047\" xlink:href=\"#DejaVuSans-46\"/>\n       <use x=\"95.410156\" xlink:href=\"#DejaVuSans-50\"/>\n      </g>\n     </g>\n    </g>\n    <g id=\"ytick_3\">\n     <g id=\"line2d_14\">\n      <g>\n       <use style=\"stroke:#000000;stroke-width:0.8;\" x=\"30.103125\" xlink:href=\"#m368ea33d2b\" y=\"150.078402\"/>\n      </g>\n     </g>\n     <g id=\"text_15\">\n      <!-- 1.4 -->\n      <g transform=\"translate(7.2 153.877621)scale(0.1 -0.1)\">\n       <use xlink:href=\"#DejaVuSans-49\"/>\n       <use x=\"63.623047\" xlink:href=\"#DejaVuSans-46\"/>\n       <use x=\"95.410156\" xlink:href=\"#DejaVuSans-52\"/>\n      </g>\n     </g>\n    </g>\n    <g id=\"ytick_4\">\n     <g id=\"line2d_15\">\n      <g>\n       <use style=\"stroke:#000000;stroke-width:0.8;\" x=\"30.103125\" xlink:href=\"#m368ea33d2b\" y=\"126.898538\"/>\n      </g>\n     </g>\n     <g id=\"text_16\">\n      <!-- 1.6 -->\n      <g transform=\"translate(7.2 130.697757)scale(0.1 -0.1)\">\n       <use xlink:href=\"#DejaVuSans-49\"/>\n       <use x=\"63.623047\" xlink:href=\"#DejaVuSans-46\"/>\n       <use x=\"95.410156\" xlink:href=\"#DejaVuSans-54\"/>\n      </g>\n     </g>\n    </g>\n    <g id=\"ytick_5\">\n     <g id=\"line2d_16\">\n      <g>\n       <use style=\"stroke:#000000;stroke-width:0.8;\" x=\"30.103125\" xlink:href=\"#m368ea33d2b\" y=\"103.718674\"/>\n      </g>\n     </g>\n     <g id=\"text_17\">\n      <!-- 1.8 -->\n      <g transform=\"translate(7.2 107.517893)scale(0.1 -0.1)\">\n       <use xlink:href=\"#DejaVuSans-49\"/>\n       <use x=\"63.623047\" xlink:href=\"#DejaVuSans-46\"/>\n       <use x=\"95.410156\" xlink:href=\"#DejaVuSans-56\"/>\n      </g>\n     </g>\n    </g>\n    <g id=\"ytick_6\">\n     <g id=\"line2d_17\">\n      <g>\n       <use style=\"stroke:#000000;stroke-width:0.8;\" x=\"30.103125\" xlink:href=\"#m368ea33d2b\" y=\"80.53881\"/>\n      </g>\n     </g>\n     <g id=\"text_18\">\n      <!-- 2.0 -->\n      <g transform=\"translate(7.2 84.338029)scale(0.1 -0.1)\">\n       <use xlink:href=\"#DejaVuSans-50\"/>\n       <use x=\"63.623047\" xlink:href=\"#DejaVuSans-46\"/>\n       <use x=\"95.410156\" xlink:href=\"#DejaVuSans-48\"/>\n      </g>\n     </g>\n    </g>\n    <g id=\"ytick_7\">\n     <g id=\"line2d_18\">\n      <g>\n       <use style=\"stroke:#000000;stroke-width:0.8;\" x=\"30.103125\" xlink:href=\"#m368ea33d2b\" y=\"57.358946\"/>\n      </g>\n     </g>\n     <g id=\"text_19\">\n      <!-- 2.2 -->\n      <g transform=\"translate(7.2 61.158165)scale(0.1 -0.1)\">\n       <use xlink:href=\"#DejaVuSans-50\"/>\n       <use x=\"63.623047\" xlink:href=\"#DejaVuSans-46\"/>\n       <use x=\"95.410156\" xlink:href=\"#DejaVuSans-50\"/>\n      </g>\n     </g>\n    </g>\n    <g id=\"ytick_8\">\n     <g id=\"line2d_19\">\n      <g>\n       <use style=\"stroke:#000000;stroke-width:0.8;\" x=\"30.103125\" xlink:href=\"#m368ea33d2b\" y=\"34.179083\"/>\n      </g>\n     </g>\n     <g id=\"text_20\">\n      <!-- 2.4 -->\n      <g transform=\"translate(7.2 37.978301)scale(0.1 -0.1)\">\n       <use xlink:href=\"#DejaVuSans-50\"/>\n       <use x=\"63.623047\" xlink:href=\"#DejaVuSans-46\"/>\n       <use x=\"95.410156\" xlink:href=\"#DejaVuSans-52\"/>\n      </g>\n     </g>\n    </g>\n    <g id=\"ytick_9\">\n     <g id=\"line2d_20\">\n      <g>\n       <use style=\"stroke:#000000;stroke-width:0.8;\" x=\"30.103125\" xlink:href=\"#m368ea33d2b\" y=\"10.999219\"/>\n      </g>\n     </g>\n     <g id=\"text_21\">\n      <!-- 2.6 -->\n      <g transform=\"translate(7.2 14.798437)scale(0.1 -0.1)\">\n       <use xlink:href=\"#DejaVuSans-50\"/>\n       <use x=\"63.623047\" xlink:href=\"#DejaVuSans-46\"/>\n       <use x=\"95.410156\" xlink:href=\"#DejaVuSans-54\"/>\n      </g>\n     </g>\n    </g>\n   </g>\n   <g id=\"line2d_21\">\n    <path clip-path=\"url(#pafebddd2aa)\" d=\"M 45.321307 196.438129 \nL 45.409503 196.438129 \nL 46.203265 180.593666 \nL 47.790789 180.593666 \nL 55.375626 149.671472 \nL 61.020156 149.671472 \nL 89.77198 18.401766 \nL 165.355763 18.401766 \nL 349.684943 23.087753 \n\" style=\"fill:none;stroke:#1f77b4;stroke-linecap:square;stroke-width:1.5;\"/>\n    <defs>\n     <path d=\"M 0 1.5 \nC 0.397805 1.5 0.77937 1.341951 1.06066 1.06066 \nC 1.341951 0.77937 1.5 0.397805 1.5 0 \nC 1.5 -0.397805 1.341951 -0.77937 1.06066 -1.06066 \nC 0.77937 -1.341951 0.397805 -1.5 0 -1.5 \nC -0.397805 -1.5 -0.77937 -1.341951 -1.06066 -1.06066 \nC -1.341951 -0.77937 -1.5 -0.397805 -1.5 0 \nC -1.5 0.397805 -1.341951 0.77937 -1.06066 1.06066 \nC -0.77937 1.341951 -0.397805 1.5 0 1.5 \nz\n\" id=\"m423ab5ace9\" style=\"stroke:#1f77b4;\"/>\n    </defs>\n    <g clip-path=\"url(#pafebddd2aa)\">\n     <use style=\"fill:#1f77b4;stroke:#1f77b4;\" x=\"45.321307\" xlink:href=\"#m423ab5ace9\" y=\"196.438129\"/>\n     <use style=\"fill:#1f77b4;stroke:#1f77b4;\" x=\"45.409503\" xlink:href=\"#m423ab5ace9\" y=\"196.438129\"/>\n     <use style=\"fill:#1f77b4;stroke:#1f77b4;\" x=\"46.203265\" xlink:href=\"#m423ab5ace9\" y=\"180.593666\"/>\n     <use style=\"fill:#1f77b4;stroke:#1f77b4;\" x=\"47.790789\" xlink:href=\"#m423ab5ace9\" y=\"180.593666\"/>\n     <use style=\"fill:#1f77b4;stroke:#1f77b4;\" x=\"55.375626\" xlink:href=\"#m423ab5ace9\" y=\"149.671472\"/>\n     <use style=\"fill:#1f77b4;stroke:#1f77b4;\" x=\"61.020156\" xlink:href=\"#m423ab5ace9\" y=\"149.671472\"/>\n     <use style=\"fill:#1f77b4;stroke:#1f77b4;\" x=\"89.77198\" xlink:href=\"#m423ab5ace9\" y=\"18.401766\"/>\n     <use style=\"fill:#1f77b4;stroke:#1f77b4;\" x=\"165.355763\" xlink:href=\"#m423ab5ace9\" y=\"18.401766\"/>\n     <use style=\"fill:#1f77b4;stroke:#1f77b4;\" x=\"349.684943\" xlink:href=\"#m423ab5ace9\" y=\"23.087753\"/>\n    </g>\n   </g>\n   <g id=\"patch_3\">\n    <path d=\"M 30.103125 205.339948 \nL 30.103125 9.499948 \n\" style=\"fill:none;stroke:#000000;stroke-linecap:square;stroke-linejoin:miter;stroke-width:0.8;\"/>\n   </g>\n   <g id=\"patch_4\">\n    <path d=\"M 364.903125 205.339948 \nL 364.903125 9.499948 \n\" style=\"fill:none;stroke:#000000;stroke-linecap:square;stroke-linejoin:miter;stroke-width:0.8;\"/>\n   </g>\n   <g id=\"patch_5\">\n    <path d=\"M 30.103125 205.339948 \nL 364.903125 205.339948 \n\" style=\"fill:none;stroke:#000000;stroke-linecap:square;stroke-linejoin:miter;stroke-width:0.8;\"/>\n   </g>\n   <g id=\"patch_6\">\n    <path d=\"M 30.103125 9.499948 \nL 364.903125 9.499948 \n\" style=\"fill:none;stroke:#000000;stroke-linecap:square;stroke-linejoin:miter;stroke-width:0.8;\"/>\n   </g>\n  </g>\n </g>\n <defs>\n  <clipPath id=\"pafebddd2aa\">\n   <rect height=\"195.84\" width=\"334.8\" x=\"30.103125\" y=\"9.499948\"/>\n  </clipPath>\n </defs>\n</svg>\n",
      "image/png": "[encoded data removed]"
     },
     "metadata": {
      "needs_background": "light"
     }
    }
   ],
   "source": [
    "# 手續費\n",
    "## 交易買入賣出時要計算手續費\n",
    "# position_diff = rebalance_hold.div(rebalance_hold.sum(), axis=0).fillna(0).diff()\n",
    "position_diff = rebalance_hold.fillna(0).diff().fillna(0)\n",
    "\n",
    "tax_ratio = pd.Series(np.nan, index=ret.index)\n",
    "tax_ratio.loc[position_diff.index] = position_diff\n",
    "tax_ratio[tax_ratio < 0] *= (1.425/1000 + 3/1000)\n",
    "tax_ratio[tax_ratio > 0] *= (1.425/1000)\n",
    "tax_ratio = tax_ratio.abs().fillna(0)\n",
    "\n",
    "r = ret.copy().fillna(1)\n",
    "r = r * (1 - tax_ratio)\n",
    "\n",
    "rebalance_gain = r.groupby(rebalance.values).apply(lambda s:s.cumprod().iloc[-1])\n",
    "rebalance_gain.index = rebalance_hold.index\n",
    "print('扣掉tax_ratio', rebalance_gain)\n",
    "print('tax_ratio', tax_ratio[tax_ratio > 0])\n",
    "r = ret.copy().fillna(1)\n",
    "rebalance_gain = r.groupby(rebalance.values).apply(lambda s:s.cumprod().iloc[-1])\n",
    "rebalance_gain.index = rebalance_hold.index\n",
    "\n",
    "print('沒有扣掉tax_ratio', rebalance_gain)\n",
    "# 老師範例平均是為了多檔股票的報酬率取平均, 此處只有一股不需做平均\n",
    "# rebalance_hold==1 是計算買入的報酬率，賣出後是沒有報酬率的\n",
    "# eq2 = (rebalance_gain[rebalance_hold == 1].mean() * (1 - tax_ratio)).cumprod()\n",
    "\n",
    "# TODO [rebalance_hold == 1] 代表的是買入，這樣不就只有算到買入的手續費用\n",
    "# 賣出的手續費用不就都沒算到？\n",
    "eq2 = rebalance_gain.cumprod()\n",
    "eq2.plot(style='.-')\n",
    "eq2"
   ]
  },
  {
   "cell_type": "code",
   "execution_count": 18,
   "metadata": {},
   "outputs": [
    {
     "output_type": "stream",
     "name": "stdout",
     "text": "date\n2007-04-23    1\n2007-04-24    2\n2007-05-03    3\n2007-05-21    4\n2007-08-15    5\n2007-10-18    6\n2008-09-08    7\n2011-01-13    8\n2016-10-03    9\ndtype: int64\n"
    },
    {
     "output_type": "execute_result",
     "data": {
      "text/plain": "date\n2007-04-23    NaN\n2007-04-24    0.0\n2007-05-03    1.0\n2007-05-21    0.0\n2007-08-15    1.0\n2007-10-18    0.0\n2008-09-08    1.0\n2011-01-13    0.0\n2016-10-03    1.0\ndtype: float64"
     },
     "metadata": {},
     "execution_count": 18
    }
   ],
   "source": [
    "# 以數據解釋持有變化\n",
    "# rebalance印出的row代表持有變化的日期\n",
    "r = rebalance[rebalance.diff() != 0]\n",
    "print(r)\n",
    "# 則若hold將對應的日期顯示 應該呈現 0 -> 1  -> 0  -> 1的循環\n",
    "# 表示買入買出\n",
    "hold_[r.index]"
   ]
  },
  {
   "cell_type": "code",
   "execution_count": 56,
   "metadata": {},
   "outputs": [
    {
     "output_type": "execute_result",
     "data": {
      "text/plain": "date\n2007-04-23         NaN\n2007-04-24         NaN\n2007-05-03    1.135089\n2007-05-21         NaN\n2007-08-15    1.399514\n2007-10-18         NaN\n2008-09-08    2.525303\n2011-01-13         NaN\n2016-10-03    2.481503\ndtype: float64"
     },
     "metadata": {},
     "execution_count": 56
    },
    {
     "output_type": "display_data",
     "data": {
      "text/plain": "<Figure size 432x288 with 1 Axes>",
      "image/svg+xml": "<?xml version=\"1.0\" encoding=\"utf-8\" standalone=\"no\"?>\n<!DOCTYPE svg PUBLIC \"-//W3C//DTD SVG 1.1//EN\"\n  \"http://www.w3.org/Graphics/SVG/1.1/DTD/svg11.dtd\">\n<!-- Created with matplotlib (https://matplotlib.org/) -->\n<svg height=\"252.024627pt\" version=\"1.1\" viewBox=\"0 0 372.103125 252.024627\" width=\"372.103125pt\" xmlns=\"http://www.w3.org/2000/svg\" xmlns:xlink=\"http://www.w3.org/1999/xlink\">\n <defs>\n  <style type=\"text/css\">\n*{stroke-linecap:butt;stroke-linejoin:round;}\n  </style>\n </defs>\n <g id=\"figure_1\">\n  <g id=\"patch_1\">\n   <path d=\"M 0 252.024627 \nL 372.103125 252.024627 \nL 372.103125 0 \nL 0 0 \nz\n\" style=\"fill:none;\"/>\n  </g>\n  <g id=\"axes_1\">\n   <g id=\"patch_2\">\n    <path d=\"M 30.103125 203.04 \nL 364.903125 203.04 \nL 364.903125 7.2 \nL 30.103125 7.2 \nz\n\" style=\"fill:#ffffff;\"/>\n   </g>\n   <g id=\"matplotlib.axis_1\">\n    <g id=\"xtick_1\">\n     <g id=\"line2d_1\">\n      <defs>\n       <path d=\"M 0 0 \nL 0 3.5 \n\" id=\"mc0bb7db899\" style=\"stroke:#000000;stroke-width:0.8;\"/>\n      </defs>\n      <g>\n       <use style=\"stroke:#000000;stroke-width:0.8;\" x=\"34.530152\" xlink:href=\"#mc0bb7db899\" y=\"203.04\"/>\n      </g>\n     </g>\n     <g id=\"text_1\">\n      <!-- 2007 -->\n      <defs>\n       <path d=\"M 19.1875 8.296875 \nL 53.609375 8.296875 \nL 53.609375 0 \nL 7.328125 0 \nL 7.328125 8.296875 \nQ 12.9375 14.109375 22.625 23.890625 \nQ 32.328125 33.6875 34.8125 36.53125 \nQ 39.546875 41.84375 41.421875 45.53125 \nQ 43.3125 49.21875 43.3125 52.78125 \nQ 43.3125 58.59375 39.234375 62.25 \nQ 35.15625 65.921875 28.609375 65.921875 \nQ 23.96875 65.921875 18.8125 64.3125 \nQ 13.671875 62.703125 7.8125 59.421875 \nL 7.8125 69.390625 \nQ 13.765625 71.78125 18.9375 73 \nQ 24.125 74.21875 28.421875 74.21875 \nQ 39.75 74.21875 46.484375 68.546875 \nQ 53.21875 62.890625 53.21875 53.421875 \nQ 53.21875 48.921875 51.53125 44.890625 \nQ 49.859375 40.875 45.40625 35.40625 \nQ 44.1875 33.984375 37.640625 27.21875 \nQ 31.109375 20.453125 19.1875 8.296875 \nz\n\" id=\"DejaVuSans-50\"/>\n       <path d=\"M 31.78125 66.40625 \nQ 24.171875 66.40625 20.328125 58.90625 \nQ 16.5 51.421875 16.5 36.375 \nQ 16.5 21.390625 20.328125 13.890625 \nQ 24.171875 6.390625 31.78125 6.390625 \nQ 39.453125 6.390625 43.28125 13.890625 \nQ 47.125 21.390625 47.125 36.375 \nQ 47.125 51.421875 43.28125 58.90625 \nQ 39.453125 66.40625 31.78125 66.40625 \nz\nM 31.78125 74.21875 \nQ 44.046875 74.21875 50.515625 64.515625 \nQ 56.984375 54.828125 56.984375 36.375 \nQ 56.984375 17.96875 50.515625 8.265625 \nQ 44.046875 -1.421875 31.78125 -1.421875 \nQ 19.53125 -1.421875 13.0625 8.265625 \nQ 6.59375 17.96875 6.59375 36.375 \nQ 6.59375 54.828125 13.0625 64.515625 \nQ 19.53125 74.21875 31.78125 74.21875 \nz\n\" id=\"DejaVuSans-48\"/>\n       <path d=\"M 8.203125 72.90625 \nL 55.078125 72.90625 \nL 55.078125 68.703125 \nL 28.609375 0 \nL 18.3125 0 \nL 43.21875 64.59375 \nL 8.203125 64.59375 \nz\n\" id=\"DejaVuSans-55\"/>\n      </defs>\n      <g transform=\"translate(11.449962 229.34544)rotate(-30)scale(0.1 -0.1)\">\n       <use xlink:href=\"#DejaVuSans-50\"/>\n       <use x=\"63.623047\" xlink:href=\"#DejaVuSans-48\"/>\n       <use x=\"127.246094\" xlink:href=\"#DejaVuSans-48\"/>\n       <use x=\"190.869141\" xlink:href=\"#DejaVuSans-55\"/>\n      </g>\n     </g>\n    </g>\n    <g id=\"xtick_2\">\n     <g id=\"line2d_2\">\n      <g>\n       <use style=\"stroke:#000000;stroke-width:0.8;\" x=\"66.815164\" xlink:href=\"#mc0bb7db899\" y=\"203.04\"/>\n      </g>\n     </g>\n     <g id=\"text_2\">\n      <!-- 2008 -->\n      <defs>\n       <path d=\"M 31.78125 34.625 \nQ 24.75 34.625 20.71875 30.859375 \nQ 16.703125 27.09375 16.703125 20.515625 \nQ 16.703125 13.921875 20.71875 10.15625 \nQ 24.75 6.390625 31.78125 6.390625 \nQ 38.8125 6.390625 42.859375 10.171875 \nQ 46.921875 13.96875 46.921875 20.515625 \nQ 46.921875 27.09375 42.890625 30.859375 \nQ 38.875 34.625 31.78125 34.625 \nz\nM 21.921875 38.8125 \nQ 15.578125 40.375 12.03125 44.71875 \nQ 8.5 49.078125 8.5 55.328125 \nQ 8.5 64.0625 14.71875 69.140625 \nQ 20.953125 74.21875 31.78125 74.21875 \nQ 42.671875 74.21875 48.875 69.140625 \nQ 55.078125 64.0625 55.078125 55.328125 \nQ 55.078125 49.078125 51.53125 44.71875 \nQ 48 40.375 41.703125 38.8125 \nQ 48.828125 37.15625 52.796875 32.3125 \nQ 56.78125 27.484375 56.78125 20.515625 \nQ 56.78125 9.90625 50.3125 4.234375 \nQ 43.84375 -1.421875 31.78125 -1.421875 \nQ 19.734375 -1.421875 13.25 4.234375 \nQ 6.78125 9.90625 6.78125 20.515625 \nQ 6.78125 27.484375 10.78125 32.3125 \nQ 14.796875 37.15625 21.921875 38.8125 \nz\nM 18.3125 54.390625 \nQ 18.3125 48.734375 21.84375 45.5625 \nQ 25.390625 42.390625 31.78125 42.390625 \nQ 38.140625 42.390625 41.71875 45.5625 \nQ 45.3125 48.734375 45.3125 54.390625 \nQ 45.3125 60.0625 41.71875 63.234375 \nQ 38.140625 66.40625 31.78125 66.40625 \nQ 25.390625 66.40625 21.84375 63.234375 \nQ 18.3125 60.0625 18.3125 54.390625 \nz\n\" id=\"DejaVuSans-56\"/>\n      </defs>\n      <g transform=\"translate(43.734974 229.34544)rotate(-30)scale(0.1 -0.1)\">\n       <use xlink:href=\"#DejaVuSans-50\"/>\n       <use x=\"63.623047\" xlink:href=\"#DejaVuSans-48\"/>\n       <use x=\"127.246094\" xlink:href=\"#DejaVuSans-48\"/>\n       <use x=\"190.869141\" xlink:href=\"#DejaVuSans-56\"/>\n      </g>\n     </g>\n    </g>\n    <g id=\"xtick_3\">\n     <g id=\"line2d_3\">\n      <g>\n       <use style=\"stroke:#000000;stroke-width:0.8;\" x=\"99.188629\" xlink:href=\"#mc0bb7db899\" y=\"203.04\"/>\n      </g>\n     </g>\n     <g id=\"text_3\">\n      <!-- 2009 -->\n      <defs>\n       <path d=\"M 10.984375 1.515625 \nL 10.984375 10.5 \nQ 14.703125 8.734375 18.5 7.8125 \nQ 22.3125 6.890625 25.984375 6.890625 \nQ 35.75 6.890625 40.890625 13.453125 \nQ 46.046875 20.015625 46.78125 33.40625 \nQ 43.953125 29.203125 39.59375 26.953125 \nQ 35.25 24.703125 29.984375 24.703125 \nQ 19.046875 24.703125 12.671875 31.3125 \nQ 6.296875 37.9375 6.296875 49.421875 \nQ 6.296875 60.640625 12.9375 67.421875 \nQ 19.578125 74.21875 30.609375 74.21875 \nQ 43.265625 74.21875 49.921875 64.515625 \nQ 56.59375 54.828125 56.59375 36.375 \nQ 56.59375 19.140625 48.40625 8.859375 \nQ 40.234375 -1.421875 26.421875 -1.421875 \nQ 22.703125 -1.421875 18.890625 -0.6875 \nQ 15.09375 0.046875 10.984375 1.515625 \nz\nM 30.609375 32.421875 \nQ 37.25 32.421875 41.125 36.953125 \nQ 45.015625 41.5 45.015625 49.421875 \nQ 45.015625 57.28125 41.125 61.84375 \nQ 37.25 66.40625 30.609375 66.40625 \nQ 23.96875 66.40625 20.09375 61.84375 \nQ 16.21875 57.28125 16.21875 49.421875 \nQ 16.21875 41.5 20.09375 36.953125 \nQ 23.96875 32.421875 30.609375 32.421875 \nz\n\" id=\"DejaVuSans-57\"/>\n      </defs>\n      <g transform=\"translate(76.108438 229.34544)rotate(-30)scale(0.1 -0.1)\">\n       <use xlink:href=\"#DejaVuSans-50\"/>\n       <use x=\"63.623047\" xlink:href=\"#DejaVuSans-48\"/>\n       <use x=\"127.246094\" xlink:href=\"#DejaVuSans-48\"/>\n       <use x=\"190.869141\" xlink:href=\"#DejaVuSans-57\"/>\n      </g>\n     </g>\n    </g>\n    <g id=\"xtick_4\">\n     <g id=\"line2d_4\">\n      <g>\n       <use style=\"stroke:#000000;stroke-width:0.8;\" x=\"131.473641\" xlink:href=\"#mc0bb7db899\" y=\"203.04\"/>\n      </g>\n     </g>\n     <g id=\"text_4\">\n      <!-- 2010 -->\n      <defs>\n       <path d=\"M 12.40625 8.296875 \nL 28.515625 8.296875 \nL 28.515625 63.921875 \nL 10.984375 60.40625 \nL 10.984375 69.390625 \nL 28.421875 72.90625 \nL 38.28125 72.90625 \nL 38.28125 8.296875 \nL 54.390625 8.296875 \nL 54.390625 0 \nL 12.40625 0 \nz\n\" id=\"DejaVuSans-49\"/>\n      </defs>\n      <g transform=\"translate(108.393451 229.34544)rotate(-30)scale(0.1 -0.1)\">\n       <use xlink:href=\"#DejaVuSans-50\"/>\n       <use x=\"63.623047\" xlink:href=\"#DejaVuSans-48\"/>\n       <use x=\"127.246094\" xlink:href=\"#DejaVuSans-49\"/>\n       <use x=\"190.869141\" xlink:href=\"#DejaVuSans-48\"/>\n      </g>\n     </g>\n    </g>\n    <g id=\"xtick_5\">\n     <g id=\"line2d_5\">\n      <g>\n       <use style=\"stroke:#000000;stroke-width:0.8;\" x=\"163.758653\" xlink:href=\"#mc0bb7db899\" y=\"203.04\"/>\n      </g>\n     </g>\n     <g id=\"text_5\">\n      <!-- 2011 -->\n      <g transform=\"translate(140.678463 229.34544)rotate(-30)scale(0.1 -0.1)\">\n       <use xlink:href=\"#DejaVuSans-50\"/>\n       <use x=\"63.623047\" xlink:href=\"#DejaVuSans-48\"/>\n       <use x=\"127.246094\" xlink:href=\"#DejaVuSans-49\"/>\n       <use x=\"190.869141\" xlink:href=\"#DejaVuSans-49\"/>\n      </g>\n     </g>\n    </g>\n    <g id=\"xtick_6\">\n     <g id=\"line2d_6\">\n      <g>\n       <use style=\"stroke:#000000;stroke-width:0.8;\" x=\"196.043666\" xlink:href=\"#mc0bb7db899\" y=\"203.04\"/>\n      </g>\n     </g>\n     <g id=\"text_6\">\n      <!-- 2012 -->\n      <g transform=\"translate(172.963475 229.34544)rotate(-30)scale(0.1 -0.1)\">\n       <use xlink:href=\"#DejaVuSans-50\"/>\n       <use x=\"63.623047\" xlink:href=\"#DejaVuSans-48\"/>\n       <use x=\"127.246094\" xlink:href=\"#DejaVuSans-49\"/>\n       <use x=\"190.869141\" xlink:href=\"#DejaVuSans-50\"/>\n      </g>\n     </g>\n    </g>\n    <g id=\"xtick_7\">\n     <g id=\"line2d_7\">\n      <g>\n       <use style=\"stroke:#000000;stroke-width:0.8;\" x=\"228.41713\" xlink:href=\"#mc0bb7db899\" y=\"203.04\"/>\n      </g>\n     </g>\n     <g id=\"text_7\">\n      <!-- 2013 -->\n      <defs>\n       <path d=\"M 40.578125 39.3125 \nQ 47.65625 37.796875 51.625 33 \nQ 55.609375 28.21875 55.609375 21.1875 \nQ 55.609375 10.40625 48.1875 4.484375 \nQ 40.765625 -1.421875 27.09375 -1.421875 \nQ 22.515625 -1.421875 17.65625 -0.515625 \nQ 12.796875 0.390625 7.625 2.203125 \nL 7.625 11.71875 \nQ 11.71875 9.328125 16.59375 8.109375 \nQ 21.484375 6.890625 26.8125 6.890625 \nQ 36.078125 6.890625 40.9375 10.546875 \nQ 45.796875 14.203125 45.796875 21.1875 \nQ 45.796875 27.640625 41.28125 31.265625 \nQ 36.765625 34.90625 28.71875 34.90625 \nL 20.21875 34.90625 \nL 20.21875 43.015625 \nL 29.109375 43.015625 \nQ 36.375 43.015625 40.234375 45.921875 \nQ 44.09375 48.828125 44.09375 54.296875 \nQ 44.09375 59.90625 40.109375 62.90625 \nQ 36.140625 65.921875 28.71875 65.921875 \nQ 24.65625 65.921875 20.015625 65.03125 \nQ 15.375 64.15625 9.8125 62.3125 \nL 9.8125 71.09375 \nQ 15.4375 72.65625 20.34375 73.4375 \nQ 25.25 74.21875 29.59375 74.21875 \nQ 40.828125 74.21875 47.359375 69.109375 \nQ 53.90625 64.015625 53.90625 55.328125 \nQ 53.90625 49.265625 50.4375 45.09375 \nQ 46.96875 40.921875 40.578125 39.3125 \nz\n\" id=\"DejaVuSans-51\"/>\n      </defs>\n      <g transform=\"translate(205.33694 229.34544)rotate(-30)scale(0.1 -0.1)\">\n       <use xlink:href=\"#DejaVuSans-50\"/>\n       <use x=\"63.623047\" xlink:href=\"#DejaVuSans-48\"/>\n       <use x=\"127.246094\" xlink:href=\"#DejaVuSans-49\"/>\n       <use x=\"190.869141\" xlink:href=\"#DejaVuSans-51\"/>\n      </g>\n     </g>\n    </g>\n    <g id=\"xtick_8\">\n     <g id=\"line2d_8\">\n      <g>\n       <use style=\"stroke:#000000;stroke-width:0.8;\" x=\"260.702142\" xlink:href=\"#mc0bb7db899\" y=\"203.04\"/>\n      </g>\n     </g>\n     <g id=\"text_8\">\n      <!-- 2014 -->\n      <defs>\n       <path d=\"M 37.796875 64.3125 \nL 12.890625 25.390625 \nL 37.796875 25.390625 \nz\nM 35.203125 72.90625 \nL 47.609375 72.90625 \nL 47.609375 25.390625 \nL 58.015625 25.390625 \nL 58.015625 17.1875 \nL 47.609375 17.1875 \nL 47.609375 0 \nL 37.796875 0 \nL 37.796875 17.1875 \nL 4.890625 17.1875 \nL 4.890625 26.703125 \nz\n\" id=\"DejaVuSans-52\"/>\n      </defs>\n      <g transform=\"translate(237.621952 229.34544)rotate(-30)scale(0.1 -0.1)\">\n       <use xlink:href=\"#DejaVuSans-50\"/>\n       <use x=\"63.623047\" xlink:href=\"#DejaVuSans-48\"/>\n       <use x=\"127.246094\" xlink:href=\"#DejaVuSans-49\"/>\n       <use x=\"190.869141\" xlink:href=\"#DejaVuSans-52\"/>\n      </g>\n     </g>\n    </g>\n    <g id=\"xtick_9\">\n     <g id=\"line2d_9\">\n      <g>\n       <use style=\"stroke:#000000;stroke-width:0.8;\" x=\"292.987154\" xlink:href=\"#mc0bb7db899\" y=\"203.04\"/>\n      </g>\n     </g>\n     <g id=\"text_9\">\n      <!-- 2015 -->\n      <defs>\n       <path d=\"M 10.796875 72.90625 \nL 49.515625 72.90625 \nL 49.515625 64.59375 \nL 19.828125 64.59375 \nL 19.828125 46.734375 \nQ 21.96875 47.46875 24.109375 47.828125 \nQ 26.265625 48.1875 28.421875 48.1875 \nQ 40.625 48.1875 47.75 41.5 \nQ 54.890625 34.8125 54.890625 23.390625 \nQ 54.890625 11.625 47.5625 5.09375 \nQ 40.234375 -1.421875 26.90625 -1.421875 \nQ 22.3125 -1.421875 17.546875 -0.640625 \nQ 12.796875 0.140625 7.71875 1.703125 \nL 7.71875 11.625 \nQ 12.109375 9.234375 16.796875 8.0625 \nQ 21.484375 6.890625 26.703125 6.890625 \nQ 35.15625 6.890625 40.078125 11.328125 \nQ 45.015625 15.765625 45.015625 23.390625 \nQ 45.015625 31 40.078125 35.4375 \nQ 35.15625 39.890625 26.703125 39.890625 \nQ 22.75 39.890625 18.8125 39.015625 \nQ 14.890625 38.140625 10.796875 36.28125 \nz\n\" id=\"DejaVuSans-53\"/>\n      </defs>\n      <g transform=\"translate(269.906964 229.34544)rotate(-30)scale(0.1 -0.1)\">\n       <use xlink:href=\"#DejaVuSans-50\"/>\n       <use x=\"63.623047\" xlink:href=\"#DejaVuSans-48\"/>\n       <use x=\"127.246094\" xlink:href=\"#DejaVuSans-49\"/>\n       <use x=\"190.869141\" xlink:href=\"#DejaVuSans-53\"/>\n      </g>\n     </g>\n    </g>\n    <g id=\"xtick_10\">\n     <g id=\"line2d_10\">\n      <g>\n       <use style=\"stroke:#000000;stroke-width:0.8;\" x=\"325.272167\" xlink:href=\"#mc0bb7db899\" y=\"203.04\"/>\n      </g>\n     </g>\n     <g id=\"text_10\">\n      <!-- 2016 -->\n      <defs>\n       <path d=\"M 33.015625 40.375 \nQ 26.375 40.375 22.484375 35.828125 \nQ 18.609375 31.296875 18.609375 23.390625 \nQ 18.609375 15.53125 22.484375 10.953125 \nQ 26.375 6.390625 33.015625 6.390625 \nQ 39.65625 6.390625 43.53125 10.953125 \nQ 47.40625 15.53125 47.40625 23.390625 \nQ 47.40625 31.296875 43.53125 35.828125 \nQ 39.65625 40.375 33.015625 40.375 \nz\nM 52.59375 71.296875 \nL 52.59375 62.3125 \nQ 48.875 64.0625 45.09375 64.984375 \nQ 41.3125 65.921875 37.59375 65.921875 \nQ 27.828125 65.921875 22.671875 59.328125 \nQ 17.53125 52.734375 16.796875 39.40625 \nQ 19.671875 43.65625 24.015625 45.921875 \nQ 28.375 48.1875 33.59375 48.1875 \nQ 44.578125 48.1875 50.953125 41.515625 \nQ 57.328125 34.859375 57.328125 23.390625 \nQ 57.328125 12.15625 50.6875 5.359375 \nQ 44.046875 -1.421875 33.015625 -1.421875 \nQ 20.359375 -1.421875 13.671875 8.265625 \nQ 6.984375 17.96875 6.984375 36.375 \nQ 6.984375 53.65625 15.1875 63.9375 \nQ 23.390625 74.21875 37.203125 74.21875 \nQ 40.921875 74.21875 44.703125 73.484375 \nQ 48.484375 72.75 52.59375 71.296875 \nz\n\" id=\"DejaVuSans-54\"/>\n      </defs>\n      <g transform=\"translate(302.191976 229.34544)rotate(-30)scale(0.1 -0.1)\">\n       <use xlink:href=\"#DejaVuSans-50\"/>\n       <use x=\"63.623047\" xlink:href=\"#DejaVuSans-48\"/>\n       <use x=\"127.246094\" xlink:href=\"#DejaVuSans-49\"/>\n       <use x=\"190.869141\" xlink:href=\"#DejaVuSans-54\"/>\n      </g>\n     </g>\n    </g>\n    <g id=\"xtick_11\">\n     <g id=\"line2d_11\">\n      <g>\n       <use style=\"stroke:#000000;stroke-width:0.8;\" x=\"357.645631\" xlink:href=\"#mc0bb7db899\" y=\"203.04\"/>\n      </g>\n     </g>\n     <g id=\"text_11\">\n      <!-- 2017 -->\n      <g transform=\"translate(334.565441 229.34544)rotate(-30)scale(0.1 -0.1)\">\n       <use xlink:href=\"#DejaVuSans-50\"/>\n       <use x=\"63.623047\" xlink:href=\"#DejaVuSans-48\"/>\n       <use x=\"127.246094\" xlink:href=\"#DejaVuSans-49\"/>\n       <use x=\"190.869141\" xlink:href=\"#DejaVuSans-55\"/>\n      </g>\n     </g>\n    </g>\n    <g id=\"text_12\">\n     <!-- date -->\n     <defs>\n      <path d=\"M 45.40625 46.390625 \nL 45.40625 75.984375 \nL 54.390625 75.984375 \nL 54.390625 0 \nL 45.40625 0 \nL 45.40625 8.203125 \nQ 42.578125 3.328125 38.25 0.953125 \nQ 33.9375 -1.421875 27.875 -1.421875 \nQ 17.96875 -1.421875 11.734375 6.484375 \nQ 5.515625 14.40625 5.515625 27.296875 \nQ 5.515625 40.1875 11.734375 48.09375 \nQ 17.96875 56 27.875 56 \nQ 33.9375 56 38.25 53.625 \nQ 42.578125 51.265625 45.40625 46.390625 \nz\nM 14.796875 27.296875 \nQ 14.796875 17.390625 18.875 11.75 \nQ 22.953125 6.109375 30.078125 6.109375 \nQ 37.203125 6.109375 41.296875 11.75 \nQ 45.40625 17.390625 45.40625 27.296875 \nQ 45.40625 37.203125 41.296875 42.84375 \nQ 37.203125 48.484375 30.078125 48.484375 \nQ 22.953125 48.484375 18.875 42.84375 \nQ 14.796875 37.203125 14.796875 27.296875 \nz\n\" id=\"DejaVuSans-100\"/>\n      <path d=\"M 34.28125 27.484375 \nQ 23.390625 27.484375 19.1875 25 \nQ 14.984375 22.515625 14.984375 16.5 \nQ 14.984375 11.71875 18.140625 8.90625 \nQ 21.296875 6.109375 26.703125 6.109375 \nQ 34.1875 6.109375 38.703125 11.40625 \nQ 43.21875 16.703125 43.21875 25.484375 \nL 43.21875 27.484375 \nz\nM 52.203125 31.203125 \nL 52.203125 0 \nL 43.21875 0 \nL 43.21875 8.296875 \nQ 40.140625 3.328125 35.546875 0.953125 \nQ 30.953125 -1.421875 24.3125 -1.421875 \nQ 15.921875 -1.421875 10.953125 3.296875 \nQ 6 8.015625 6 15.921875 \nQ 6 25.140625 12.171875 29.828125 \nQ 18.359375 34.515625 30.609375 34.515625 \nL 43.21875 34.515625 \nL 43.21875 35.40625 \nQ 43.21875 41.609375 39.140625 45 \nQ 35.0625 48.390625 27.6875 48.390625 \nQ 23 48.390625 18.546875 47.265625 \nQ 14.109375 46.140625 10.015625 43.890625 \nL 10.015625 52.203125 \nQ 14.9375 54.109375 19.578125 55.046875 \nQ 24.21875 56 28.609375 56 \nQ 40.484375 56 46.34375 49.84375 \nQ 52.203125 43.703125 52.203125 31.203125 \nz\n\" id=\"DejaVuSans-97\"/>\n      <path d=\"M 18.3125 70.21875 \nL 18.3125 54.6875 \nL 36.8125 54.6875 \nL 36.8125 47.703125 \nL 18.3125 47.703125 \nL 18.3125 18.015625 \nQ 18.3125 11.328125 20.140625 9.421875 \nQ 21.96875 7.515625 27.59375 7.515625 \nL 36.8125 7.515625 \nL 36.8125 0 \nL 27.59375 0 \nQ 17.1875 0 13.234375 3.875 \nQ 9.28125 7.765625 9.28125 18.015625 \nL 9.28125 47.703125 \nL 2.6875 47.703125 \nL 2.6875 54.6875 \nL 9.28125 54.6875 \nL 9.28125 70.21875 \nz\n\" id=\"DejaVuSans-116\"/>\n      <path d=\"M 56.203125 29.59375 \nL 56.203125 25.203125 \nL 14.890625 25.203125 \nQ 15.484375 15.921875 20.484375 11.0625 \nQ 25.484375 6.203125 34.421875 6.203125 \nQ 39.59375 6.203125 44.453125 7.46875 \nQ 49.3125 8.734375 54.109375 11.28125 \nL 54.109375 2.78125 \nQ 49.265625 0.734375 44.1875 -0.34375 \nQ 39.109375 -1.421875 33.890625 -1.421875 \nQ 20.796875 -1.421875 13.15625 6.1875 \nQ 5.515625 13.8125 5.515625 26.8125 \nQ 5.515625 40.234375 12.765625 48.109375 \nQ 20.015625 56 32.328125 56 \nQ 43.359375 56 49.78125 48.890625 \nQ 56.203125 41.796875 56.203125 29.59375 \nz\nM 47.21875 32.234375 \nQ 47.125 39.59375 43.09375 43.984375 \nQ 39.0625 48.390625 32.421875 48.390625 \nQ 24.90625 48.390625 20.390625 44.140625 \nQ 15.875 39.890625 15.1875 32.171875 \nz\n\" id=\"DejaVuSans-101\"/>\n     </defs>\n     <g transform=\"translate(186.228125 242.74494)scale(0.1 -0.1)\">\n      <use xlink:href=\"#DejaVuSans-100\"/>\n      <use x=\"63.476562\" xlink:href=\"#DejaVuSans-97\"/>\n      <use x=\"124.755859\" xlink:href=\"#DejaVuSans-116\"/>\n      <use x=\"163.964844\" xlink:href=\"#DejaVuSans-101\"/>\n     </g>\n    </g>\n   </g>\n   <g id=\"matplotlib.axis_2\">\n    <g id=\"ytick_1\">\n     <g id=\"line2d_12\">\n      <defs>\n       <path d=\"M 0 0 \nL -3.5 0 \n\" id=\"m090f86b1af\" style=\"stroke:#000000;stroke-width:0.8;\"/>\n      </defs>\n      <g>\n       <use style=\"stroke:#000000;stroke-width:0.8;\" x=\"30.103125\" xlink:href=\"#m090f86b1af\" y=\"185.825426\"/>\n      </g>\n     </g>\n     <g id=\"text_13\">\n      <!-- 1.2 -->\n      <defs>\n       <path d=\"M 10.6875 12.40625 \nL 21 12.40625 \nL 21 0 \nL 10.6875 0 \nz\n\" id=\"DejaVuSans-46\"/>\n      </defs>\n      <g transform=\"translate(7.2 189.624644)scale(0.1 -0.1)\">\n       <use xlink:href=\"#DejaVuSans-49\"/>\n       <use x=\"63.623047\" xlink:href=\"#DejaVuSans-46\"/>\n       <use x=\"95.410156\" xlink:href=\"#DejaVuSans-50\"/>\n      </g>\n     </g>\n    </g>\n    <g id=\"ytick_2\">\n     <g id=\"line2d_13\">\n      <g>\n       <use style=\"stroke:#000000;stroke-width:0.8;\" x=\"30.103125\" xlink:href=\"#m090f86b1af\" y=\"160.212625\"/>\n      </g>\n     </g>\n     <g id=\"text_14\">\n      <!-- 1.4 -->\n      <g transform=\"translate(7.2 164.011844)scale(0.1 -0.1)\">\n       <use xlink:href=\"#DejaVuSans-49\"/>\n       <use x=\"63.623047\" xlink:href=\"#DejaVuSans-46\"/>\n       <use x=\"95.410156\" xlink:href=\"#DejaVuSans-52\"/>\n      </g>\n     </g>\n    </g>\n    <g id=\"ytick_3\">\n     <g id=\"line2d_14\">\n      <g>\n       <use style=\"stroke:#000000;stroke-width:0.8;\" x=\"30.103125\" xlink:href=\"#m090f86b1af\" y=\"134.599824\"/>\n      </g>\n     </g>\n     <g id=\"text_15\">\n      <!-- 1.6 -->\n      <g transform=\"translate(7.2 138.399043)scale(0.1 -0.1)\">\n       <use xlink:href=\"#DejaVuSans-49\"/>\n       <use x=\"63.623047\" xlink:href=\"#DejaVuSans-46\"/>\n       <use x=\"95.410156\" xlink:href=\"#DejaVuSans-54\"/>\n      </g>\n     </g>\n    </g>\n    <g id=\"ytick_4\">\n     <g id=\"line2d_15\">\n      <g>\n       <use style=\"stroke:#000000;stroke-width:0.8;\" x=\"30.103125\" xlink:href=\"#m090f86b1af\" y=\"108.987023\"/>\n      </g>\n     </g>\n     <g id=\"text_16\">\n      <!-- 1.8 -->\n      <g transform=\"translate(7.2 112.786242)scale(0.1 -0.1)\">\n       <use xlink:href=\"#DejaVuSans-49\"/>\n       <use x=\"63.623047\" xlink:href=\"#DejaVuSans-46\"/>\n       <use x=\"95.410156\" xlink:href=\"#DejaVuSans-56\"/>\n      </g>\n     </g>\n    </g>\n    <g id=\"ytick_5\">\n     <g id=\"line2d_16\">\n      <g>\n       <use style=\"stroke:#000000;stroke-width:0.8;\" x=\"30.103125\" xlink:href=\"#m090f86b1af\" y=\"83.374223\"/>\n      </g>\n     </g>\n     <g id=\"text_17\">\n      <!-- 2.0 -->\n      <g transform=\"translate(7.2 87.173441)scale(0.1 -0.1)\">\n       <use xlink:href=\"#DejaVuSans-50\"/>\n       <use x=\"63.623047\" xlink:href=\"#DejaVuSans-46\"/>\n       <use x=\"95.410156\" xlink:href=\"#DejaVuSans-48\"/>\n      </g>\n     </g>\n    </g>\n    <g id=\"ytick_6\">\n     <g id=\"line2d_17\">\n      <g>\n       <use style=\"stroke:#000000;stroke-width:0.8;\" x=\"30.103125\" xlink:href=\"#m090f86b1af\" y=\"57.761422\"/>\n      </g>\n     </g>\n     <g id=\"text_18\">\n      <!-- 2.2 -->\n      <g transform=\"translate(7.2 61.560641)scale(0.1 -0.1)\">\n       <use xlink:href=\"#DejaVuSans-50\"/>\n       <use x=\"63.623047\" xlink:href=\"#DejaVuSans-46\"/>\n       <use x=\"95.410156\" xlink:href=\"#DejaVuSans-50\"/>\n      </g>\n     </g>\n    </g>\n    <g id=\"ytick_7\">\n     <g id=\"line2d_18\">\n      <g>\n       <use style=\"stroke:#000000;stroke-width:0.8;\" x=\"30.103125\" xlink:href=\"#m090f86b1af\" y=\"32.148621\"/>\n      </g>\n     </g>\n     <g id=\"text_19\">\n      <!-- 2.4 -->\n      <g transform=\"translate(7.2 35.94784)scale(0.1 -0.1)\">\n       <use xlink:href=\"#DejaVuSans-50\"/>\n       <use x=\"63.623047\" xlink:href=\"#DejaVuSans-46\"/>\n       <use x=\"95.410156\" xlink:href=\"#DejaVuSans-52\"/>\n      </g>\n     </g>\n    </g>\n   </g>\n   <g id=\"line2d_19\">\n    <path clip-path=\"url(#p44ba082163)\" d=\"M 45.321307 194.138182 \nL 46.913444 194.138182 \nL 54.520324 160.274877 \nL 60.181258 160.274877 \nL 89.016639 16.101818 \nL 164.820078 16.101818 \nL 349.684943 21.711037 \n\" style=\"fill:none;stroke:#1f77b4;stroke-linecap:square;stroke-width:1.5;\"/>\n    <defs>\n     <path d=\"M 0 1.5 \nC 0.397805 1.5 0.77937 1.341951 1.06066 1.06066 \nC 1.341951 0.77937 1.5 0.397805 1.5 0 \nC 1.5 -0.397805 1.341951 -0.77937 1.06066 -1.06066 \nC 0.77937 -1.341951 0.397805 -1.5 0 -1.5 \nC -0.397805 -1.5 -0.77937 -1.341951 -1.06066 -1.06066 \nC -1.341951 -0.77937 -1.5 -0.397805 -1.5 0 \nC -1.5 0.397805 -1.341951 0.77937 -1.06066 1.06066 \nC -0.77937 1.341951 -0.397805 1.5 0 1.5 \nz\n\" id=\"med61be0d92\" style=\"stroke:#1f77b4;\"/>\n    </defs>\n    <g clip-path=\"url(#p44ba082163)\">\n     <use style=\"fill:#1f77b4;stroke:#1f77b4;\" x=\"45.321307\" xlink:href=\"#med61be0d92\" y=\"194.138182\"/>\n     <use style=\"fill:#1f77b4;stroke:#1f77b4;\" x=\"46.913444\" xlink:href=\"#med61be0d92\" y=\"194.138182\"/>\n     <use style=\"fill:#1f77b4;stroke:#1f77b4;\" x=\"54.520324\" xlink:href=\"#med61be0d92\" y=\"160.274877\"/>\n     <use style=\"fill:#1f77b4;stroke:#1f77b4;\" x=\"60.181258\" xlink:href=\"#med61be0d92\" y=\"160.274877\"/>\n     <use style=\"fill:#1f77b4;stroke:#1f77b4;\" x=\"89.016639\" xlink:href=\"#med61be0d92\" y=\"16.101818\"/>\n     <use style=\"fill:#1f77b4;stroke:#1f77b4;\" x=\"164.820078\" xlink:href=\"#med61be0d92\" y=\"16.101818\"/>\n     <use style=\"fill:#1f77b4;stroke:#1f77b4;\" x=\"349.684943\" xlink:href=\"#med61be0d92\" y=\"21.711037\"/>\n    </g>\n   </g>\n   <g id=\"patch_3\">\n    <path d=\"M 30.103125 203.04 \nL 30.103125 7.2 \n\" style=\"fill:none;stroke:#000000;stroke-linecap:square;stroke-linejoin:miter;stroke-width:0.8;\"/>\n   </g>\n   <g id=\"patch_4\">\n    <path d=\"M 364.903125 203.04 \nL 364.903125 7.2 \n\" style=\"fill:none;stroke:#000000;stroke-linecap:square;stroke-linejoin:miter;stroke-width:0.8;\"/>\n   </g>\n   <g id=\"patch_5\">\n    <path d=\"M 30.103125 203.04 \nL 364.903125 203.04 \n\" style=\"fill:none;stroke:#000000;stroke-linecap:square;stroke-linejoin:miter;stroke-width:0.8;\"/>\n   </g>\n   <g id=\"patch_6\">\n    <path d=\"M 30.103125 7.2 \nL 364.903125 7.2 \n\" style=\"fill:none;stroke:#000000;stroke-linecap:square;stroke-linejoin:miter;stroke-width:0.8;\"/>\n   </g>\n  </g>\n </g>\n <defs>\n  <clipPath id=\"p44ba082163\">\n   <rect height=\"195.84\" width=\"334.8\" x=\"30.103125\" y=\"7.2\"/>\n  </clipPath>\n </defs>\n</svg>\n",
      "image/png": "[encoded data removed]"
     },
     "metadata": {
      "needs_background": "light"
     }
    }
   ],
   "source": [
    "# 手續費\n",
    "## 交易買入賣出時要計算手續費\n",
    "# position_diff = rebalance_hold.div(rebalance_hold.sum(), axis=0).fillna(0).diff()\n",
    "position_diff = rebalance_hold.fillna(0).diff().fillna(0)\n",
    "\n",
    "tax_ratio = position_diff.copy()\n",
    "# tax_ratio.loc[position_diff.index] = position_diff\n",
    "tax_ratio[tax_ratio < 0] *= (1.425/1000 + 3/1000)\n",
    "tax_ratio[tax_ratio > 0] *= (1.425/1000)\n",
    "tax_ratio = tax_ratio.abs().fillna(0)\n",
    "\n",
    "r = ret.copy().fillna(1)\n",
    "\n",
    "rebalance_gain = r.groupby(rebalance.values).apply(lambda s:s.cumprod().iloc[-1])\n",
    "rebalance_gain.index = rebalance_hold.index\n",
    "\n",
    "# 老師範例平均是為了多檔股票的報酬率取平均, 此處只有一股不需做平均\n",
    "# rebalance_hold==1 是計算買入的報酬率，賣出後是沒有報酬率的\n",
    "# eq2 = (rebalance_gain[rebalance_hold == 1].mean() * (1 - tax_ratio)).cumprod()\n",
    "eq2 =  (rebalance_gain[rebalance_hold == 1] * (1 - tax_ratio)).cumprod()\n",
    "eq2.ffill().plot(style='.-')\n",
    "eq2"
   ]
  },
  {
   "cell_type": "code",
   "execution_count": null,
   "metadata": {},
   "outputs": [],
   "source": []
  }
 ],
 "metadata": {
  "file_extension": ".py",
  "kernelspec": {
   "display_name": "finlab env",
   "language": "python",
   "name": "finlab"
  },
  "language_info": {
   "codemirror_mode": {
    "name": "ipython",
    "version": 3
   },
   "file_extension": ".py",
   "mimetype": "text/x-python",
   "name": "python",
   "nbconvert_exporter": "python",
   "pygments_lexer": "ipython3",
   "version": "3.7.4-final"
  },
  "mimetype": "text/x-python",
  "name": "python",
  "npconvert_exporter": "python",
  "pygments_lexer": "ipython3",
  "version": 3
 },
 "nbformat": 4,
 "nbformat_minor": 4
}