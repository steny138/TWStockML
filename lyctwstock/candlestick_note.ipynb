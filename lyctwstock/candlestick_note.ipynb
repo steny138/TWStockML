{
 "cells": [
  {
   "cell_type": "code",
   "execution_count": null,
   "metadata": {},
   "outputs": [],
   "source": [
    "df_ = []\n",
    "candlesitck_names = []\n",
    "for candlesitck in strategies:\n",
    "    df = pd.DataFrame(strategies[candlesitck])\n",
    "    candlesitck_names.append(candlesitck)\n",
    "    df_.append(df)\n",
    "\n",
    "dfy = pd.concat(df_, keys=candlesitck_names, axis=0)\n",
    "\n",
    "dfy.index.names = ['candlestick', dfy.index.names[1]]\n",
    "dfy"
   ]
  },
  {
   "cell_type": "code",
   "execution_count": null,
   "metadata": {},
   "outputs": [],
   "source": [
    "df1 = pd.DataFrame(strategies['CDLSHOOTINGSTAR'])\n",
    "df1.index.name = 'stock_id'\n",
    "df2 = pd.DataFrame(strategies['CDL3INSIDE'])\n",
    "df2.index.name = 'stock_id'\n",
    "\n",
    "df3 = pd.DataFrame(strategies['CDL3OUTSIDE'])\n",
    "df3.index.name = 'stock_id'\n",
    "\n",
    "df4 = pd.DataFrame(strategies['CDLTAKURI'])\n",
    "df4.index.name = 'stock_id'\n",
    "\n",
    "dfx = [df1, df2, df3, df4]\n",
    "\n",
    "dfy = pd.concat(dfx,keys= ['CDLSHOOTINGSTAR','CDL3INSIDE','CDL3OUTSIDE','CDLTAKURI'],axis=0)\n",
    "\n",
    "dfy.index.names = ['candlestick',dfy.index.names[1]]\n",
    "\n",
    "dfy"
   ]
  },
  {
   "cell_type": "code",
   "execution_count": null,
   "metadata": {},
   "outputs": [],
   "source": [
    "profit5.loc[pos.index].unstack(level=0).mean()\n",
    "\n",
    "profit10.loc[pos.index]['0015'].mean()\n",
    "profit10.loc[pos.index]['0015'].cumprod()\n",
    "profit10.loc[pos.index]['0015']"
   ]
  },
  {
   "cell_type": "code",
   "execution_count": null,
   "metadata": {},
   "outputs": [],
   "source": [
    "open_adj = data.get_adj('開盤價')\n",
    "ret = open_adj.shift(-1)[stock_id] - open_adj[stock_id]\n",
    "\n",
    "cret_total = ret.cumsum()\n",
    "cret_total.plot()\n"
   ]
  },
  {
   "cell_type": "code",
   "execution_count": null,
   "metadata": {},
   "outputs": [],
   "source": [
    "df_profit = pd.DataFrame(strategies['CDLBELTHOLD'])\n",
    "for column in df_profit.columns:\n",
    "    if not 'positive_profit' in column:\n",
    "        continue\n",
    "    ret = df_profit.shift(-1)[column] - df_profit[column]\n",
    "    cret_total = ret.cumprod()\n",
    "    ax1 = cret_total.plot(label=column.replace('_profit_','_'))\n",
    "    h1, l1 = ax1.           get_legend_handles_labels()\n",
    "\n",
    "import matplotlib.pyplot as plt\n",
    "\n",
    "plt.legend(h1, l1, loc=2)\n",
    "\n",
    "plt.show()"
   ]
  }
 ],
 "metadata": {
  "kernelspec": {
   "display_name": "finlab env",
   "language": "python",
   "name": "finlab"
  },
  "language_info": {
   "codemirror_mode": {
    "name": "ipython",
    "version": 3
   },
   "file_extension": ".py",
   "mimetype": "text/x-python",
   "name": "python",
   "nbconvert_exporter": "python",
   "pygments_lexer": "ipython3",
   "version": "3.7.4"
  }
 },
 "nbformat": 4,
 "nbformat_minor": 4
}
