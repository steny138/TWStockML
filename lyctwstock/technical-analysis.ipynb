{
 "cells": [
  {
   "cell_type": "markdown",
   "metadata": {},
   "source": [
    "### 取得股票基本資料"
   ]
  },
  {
   "cell_type": "code",
   "execution_count": 1,
   "metadata": {
    "jupyter": {
     "source_hidden": true
    }
   },
   "outputs": [],
   "source": [
    "import talib\n",
    "import numpy as np\n",
    "import pandas as pd\n",
    "\n",
    "folder = '/Volumes/Macintosh HD/history/items/price'\n",
    "\n",
    "columns = ['Open', 'High', 'Low', 'Close', 'Volume']\n",
    "files = ['開盤價', '最高價', '最低價' ,'收盤價', '成交筆數']\n",
    "\n",
    "stock_id = '2412'\n",
    "\n",
    "df = pd.DataFrame()\n",
    "\n",
    "for idx, filename in enumerate(files):\n",
    "    df_temp = pd.read_pickle(f\"{folder}/{filename}.pkl\")\n",
    "    s = df_temp[stock_id]\n",
    "    df[columns[idx]] = s\n",
    "    df[columns[idx]].fillna(method='ffill', inplace=True)\n",
    "\n",
    "df['Name'] = stock_id"
   ]
  },
  {
   "cell_type": "markdown",
   "metadata": {},
   "source": [
    "### ADLine - 進貨/出貨線 (Accumulation/Distribution Line)\n",
    "```ADLine = ((收盤價-最低價)-(最高價-收盤價)) / (最高價 - 最低價) * 成交量```"
   ]
  },
  {
   "cell_type": "code",
   "execution_count": 2,
   "metadata": {
    "jupyter": {
     "source_hidden": true
    }
   },
   "outputs": [],
   "source": [
    "df_false = df['High'] - df['Low'] != 0\n",
    "df.loc[df_false, 'ad'] = ((df['Close'] - df['Low']) - (df['High'] - df['Close'])) / (df['High'] - df['Low'] ) * df['Volume']\n",
    "\n",
    "df_true = df['High'] - df['Low'] == 0\n",
    "df.loc[df_true,'ad']= df['Close'] / df.shift(1)['Close'] - 1"
   ]
  },
  {
   "cell_type": "code",
   "execution_count": 3,
   "metadata": {},
   "outputs": [],
   "source": [
    "AD = talib.AD(df['High'],df['Low'], df['Close'], df['Volume'])\n",
    "\n",
    "df['talib-ad'] = AD"
   ]
  },
  {
   "cell_type": "markdown",
   "metadata": {},
   "source": [
    "### ADOSC"
   ]
  },
  {
   "cell_type": "code",
   "execution_count": 4,
   "metadata": {},
   "outputs": [],
   "source": [
    "adosc = talib.ADOSC(df['High'],df['Low'], df['Close'], df['Volume'], fastperiod=3, slowperiod=10)\n",
    "\n",
    "df['talib-adosc'] = adosc"
   ]
  },
  {
   "cell_type": "markdown",
   "metadata": {},
   "source": [
    "### ADX - 平均趨向指數（Average Directional Movement Index)\n",
    "\n",
    "\n",
    "ADX 須配合 +DI & -DI 一起判斷"
   ]
  },
  {
   "cell_type": "code",
   "execution_count": 5,
   "metadata": {
    "jupyter": {
     "source_hidden": true
    }
   },
   "outputs": [],
   "source": [
    "adx_period = 14\n",
    "\n",
    "ADX = talib.ADX(df['High'], df['Low'], df['Close'], adx_period)\n",
    "df['talib-adx'] = ADX"
   ]
  },
  {
   "cell_type": "code",
   "execution_count": 6,
   "metadata": {
    "jupyter": {
     "source_hidden": true
    }
   },
   "outputs": [],
   "source": [
    "# TR\n",
    "\n",
    "df_adx = df[['High','Low','Close']].copy()\n",
    "\n",
    "tr_1 = abs(df_adx['High'] - df_adx['Close'].shift(1))\n",
    "tr_2 = abs(df_adx['Close'].shift(1) - df_adx['Low'])\n",
    "tr_3 = abs(df_adx['High'] - df_adx['Low'])\n",
    "\n",
    "tr_period = f'tr{adx_period}'\n",
    "\n",
    "temp = pd.DataFrame( { 'tr1': tr_1, 'tr2': tr_2 , 'tr3': tr_3 }) \n",
    "df_adx['tr'] = temp.max(axis=1)\n",
    "df_adx[tr_period] = df_adx['tr'].rolling(adx_period).mean().shift(1-adx_period)\n",
    "df_adx[tr_period] = df_adx[tr_period].fillna(value=0)\n",
    "\n",
    "for i, (index, row) in enumerate(df_adx.iterrows()):\n",
    "    if i == 0:\n",
    "        continue\n",
    "    row[tr_period] = (df_adx.iloc[i-1][tr_period] * (adx_period - 1) / adx_period) + row.tr * 1 / adx_period"
   ]
  },
  {
   "cell_type": "code",
   "execution_count": 7,
   "metadata": {
    "jupyter": {
     "source_hidden": true
    }
   },
   "outputs": [],
   "source": [
    "# DM\n",
    "df_adx['dm_positive'] = df_adx['High'] - df_adx['High'].shift(1)\n",
    "df_adx['dm_negative'] = df_adx['Low'].shift(1) - df_adx['Low']\n",
    "\n",
    "def dm_apply(row):\n",
    "    # 若+DM>-DM成立，且+DM大於0\n",
    "    if row['dm_positive'] < 0 or row['dm_positive'] <= row['dm_negative']:\n",
    "        row['dm_positive'] = 0\n",
    "    # 若+DM<-DM成立，且-DM大於0\n",
    "    if row['dm_negative'] < 0 or row['dm_negative'] <= row['dm_positive']:\n",
    "        row['dm_negative'] = 0\n",
    "        \n",
    "    return row\n",
    "    \n",
    "df_adx = df_adx.apply(dm_apply, axis=1)\n",
    "\n",
    "# DM(14)\n",
    "dmp_period = f'dm_positive{adx_period}'\n",
    "dmn_period = f'dm_negative{adx_period}'\n",
    "\n",
    "df_adx[dmp_period] = df_adx['dm_positive'].rolling(adx_period).mean().shift(1-adx_period)\n",
    "df_adx[dmn_period] = df_adx['dm_negative'].rolling(adx_period).mean().shift(1-adx_period)\n",
    "df_adx[[dmp_period, dmn_period]] = df_adx[[dmp_period,dmn_period]].fillna(value=0)\n",
    "\n",
    "for i, (index, row) in enumerate(df_adx.iterrows()):\n",
    "    if i == 0:\n",
    "        continue\n",
    "    \n",
    "    row[dmp_period] = \\\n",
    "        (df_adx.iloc[i-1][dmp_period] * (adx_period - 1) / adx_period) + row.dm_positive * 1 / adx_period\n",
    "    row[dmn_period] = \\\n",
    "        (df_adx.iloc[i-1][dmn_period] * (adx_period - 1) / adx_period) + row.dm_negative * 1 / adx_period"
   ]
  },
  {
   "cell_type": "code",
   "execution_count": 8,
   "metadata": {},
   "outputs": [],
   "source": [
    "# DI\n",
    "dip_period = f'di_positive{adx_period}'\n",
    "din_period = f'di_negative{adx_period}'\n",
    "df_adx[dip_period] = df_adx[dmp_period] / df_adx[tr_period] * 100\n",
    "df_adx[din_period] = df_adx[dmn_period] / df_adx[tr_period] * 100\n",
    "\n",
    "# DX\n",
    "df_adx['dx'] = abs(df_adx[dip_period] - df_adx[din_period]) \\\n",
    "                / (df_adx[dip_period] + df_adx[din_period]) \\\n",
    "                * 100\n",
    "\n",
    "df_adx['dx'] = df_adx['dx'].fillna(0)\n",
    "\n",
    "# ADX\n",
    "df_adx['adx'] = df_adx['dx'].rolling(adx_period).mean().shift(1-adx_period)\n",
    "df_adx['adx'] = df_adx['adx'].fillna(value=0)\n",
    "\n",
    "for i, (index, row) in enumerate(df_adx.iterrows()):\n",
    "    if i == 0:\n",
    "        continue\n",
    "    \n",
    "    row.adx = (df_adx.iloc[i-1]['adx'] * (adx_period - 1) / adx_period) + row.dx * 1 / adx_period\n",
    "\n",
    "df['adx'] = df_adx['adx']"
   ]
  },
  {
   "cell_type": "markdown",
   "metadata": {},
   "source": [
    "### ADXR"
   ]
  },
  {
   "cell_type": "code",
   "execution_count": 11,
   "metadata": {},
   "outputs": [],
   "source": [
    "df['talib-adxr'] = talib.ADXR(df['High'], df['Low'], df['Close'], timeperiod=14)"
   ]
  }
 ],
 "metadata": {
  "file_extension": ".py",
  "kernelspec": {
   "display_name": "finlab env",
   "language": "python",
   "name": "finlab"
  },
  "language_info": {
   "codemirror_mode": {
    "name": "ipython",
    "version": 3
   },
   "file_extension": ".py",
   "mimetype": "text/x-python",
   "name": "python",
   "nbconvert_exporter": "python",
   "pygments_lexer": "ipython3",
   "version": "3.7.4"
  },
  "mimetype": "text/x-python",
  "name": "python",
  "npconvert_exporter": "python",
  "pygments_lexer": "ipython3",
  "version": 3
 },
 "nbformat": 4,
 "nbformat_minor": 4
}
