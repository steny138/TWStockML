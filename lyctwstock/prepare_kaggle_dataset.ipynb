{
 "nbformat": 4,
 "nbformat_minor": 2,
 "metadata": {
  "language_info": {
   "name": "python",
   "codemirror_mode": {
    "name": "ipython",
    "version": 3
   },
   "version": "3.7.4-final"
  },
  "orig_nbformat": 2,
  "file_extension": ".py",
  "mimetype": "text/x-python",
  "name": "python",
  "npconvert_exporter": "python",
  "pygments_lexer": "ipython3",
  "version": 3,
  "kernelspec": {
   "name": "python37464bittwstockml0bcem0z7e08ec1fec6004ec1b408a2394eb5324f",
   "display_name": "Python 3.7.4 64-bit ('TWStockML-0Bcem0z7')"
  }
 },
 "cells": [
  {
   "cell_type": "code",
   "execution_count": 21,
   "metadata": {},
   "outputs": [],
   "source": [
    "import pandas as pd\n",
    "\n",
    "folder = '~/Documents/history/items/price'\n",
    "\n",
    "stock_ids = ['2330', '2317', '6505', '2412', '1301', '2882']\n",
    "columns = ['Open', 'High', 'Low', 'Close', 'Volume']\n",
    "files = ['開盤價', '收盤價', '最高價' ,'最低價', '成交筆數']\n",
    "\n",
    "for stock_id in stock_ids:\n",
    "    df = pd.DataFrame()\n",
    "    \n",
    "    for idx, filename in enumerate(files):\n",
    "        df_temp = pd.read_pickle(f\"{folder}/{filename}.pkl\")\n",
    "        s = df_temp[stock_id]\n",
    "        df[columns[idx]] = s\n",
    "        df[columns[idx]].fillna(method='ffill', inplace=True)\n",
    "    \n",
    "    df['Name'] = stock_id\n",
    "    df['Date'] = df.index\n",
    "    \n",
    "    # save dataset\n",
    "    start = df.index.min()\n",
    "    end = df.index.max()\n",
    "\n",
    "    df.to_csv(f\"../datasets/{stock_id}_{start:%Y-%m-%d}_to_{end:%Y-%m-%d}.csv\")"
   ]
  },
  {
   "cell_type": "code",
   "execution_count": null,
   "metadata": {},
   "outputs": [],
   "source": []
  }
 ]
}